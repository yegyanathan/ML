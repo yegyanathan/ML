{
 "cells": [
  {
   "cell_type": "code",
   "execution_count": 1,
   "id": "168f9fb6",
   "metadata": {
    "_cell_guid": "b1076dfc-b9ad-4769-8c92-a6c4dae69d19",
    "_uuid": "8f2839f25d086af736a60e9eeb907d3b93b6e0e5",
    "execution": {
     "iopub.execute_input": "2021-12-02T20:26:21.586261Z",
     "iopub.status.busy": "2021-12-02T20:26:21.585264Z",
     "iopub.status.idle": "2021-12-02T20:26:21.594564Z",
     "shell.execute_reply": "2021-12-02T20:26:21.593925Z",
     "shell.execute_reply.started": "2021-12-02T20:24:43.172861Z"
    },
    "papermill": {
     "duration": 0.059746,
     "end_time": "2021-12-02T20:26:21.594740",
     "exception": false,
     "start_time": "2021-12-02T20:26:21.534994",
     "status": "completed"
    },
    "tags": []
   },
   "outputs": [
    {
     "name": "stdout",
     "output_type": "stream",
     "text": [
      "/kaggle/input/titanic/train.csv\n",
      "/kaggle/input/titanic/test.csv\n",
      "/kaggle/input/titanic/gender_submission.csv\n"
     ]
    }
   ],
   "source": [
    "# This Python 3 environment comes with many helpful analytics libraries installed\n",
    "# It is defined by the kaggle/python Docker image: https://github.com/kaggle/docker-python\n",
    "# For example, here's several helpful packages to load\n",
    "\n",
    "import numpy as np # linear algebra\n",
    "import pandas as pd # data processing, CSV file I/O (e.g. pd.read_csv)\n",
    "\n",
    "# Input data files are available in the read-only \"../input/\" directory\n",
    "# For example, running this (by clicking run or pressing Shift+Enter) will list all files under the input directory\n",
    "\n",
    "import os\n",
    "for dirname, _, filenames in os.walk('/kaggle/input'):\n",
    "    for filename in filenames:\n",
    "        print(os.path.join(dirname, filename))\n",
    "\n",
    "# You can write up to 20GB to the current directory (/kaggle/working/) that gets preserved as output when you create a version using \"Save & Run All\" \n",
    "# You can also write temporary files to /kaggle/temp/, but they won't be saved outside of the current session"
   ]
  },
  {
   "cell_type": "code",
   "execution_count": 2,
   "id": "a1e9a7ee",
   "metadata": {
    "execution": {
     "iopub.execute_input": "2021-12-02T20:26:21.674590Z",
     "iopub.status.busy": "2021-12-02T20:26:21.672929Z",
     "iopub.status.idle": "2021-12-02T20:26:22.709818Z",
     "shell.execute_reply": "2021-12-02T20:26:22.709201Z",
     "shell.execute_reply.started": "2021-12-02T20:24:43.211772Z"
    },
    "papermill": {
     "duration": 1.077232,
     "end_time": "2021-12-02T20:26:22.709986",
     "exception": false,
     "start_time": "2021-12-02T20:26:21.632754",
     "status": "completed"
    },
    "tags": []
   },
   "outputs": [],
   "source": [
    "import pandas as pd\n",
    "import numpy as np\n",
    "import matplotlib.pyplot as plt\n",
    "import seaborn as sns"
   ]
  },
  {
   "cell_type": "code",
   "execution_count": 3,
   "id": "8d88926a",
   "metadata": {
    "execution": {
     "iopub.execute_input": "2021-12-02T20:26:22.790012Z",
     "iopub.status.busy": "2021-12-02T20:26:22.789240Z",
     "iopub.status.idle": "2021-12-02T20:26:22.824741Z",
     "shell.execute_reply": "2021-12-02T20:26:22.825203Z",
     "shell.execute_reply.started": "2021-12-02T20:24:44.306612Z"
    },
    "papermill": {
     "duration": 0.07788,
     "end_time": "2021-12-02T20:26:22.825398",
     "exception": false,
     "start_time": "2021-12-02T20:26:22.747518",
     "status": "completed"
    },
    "tags": []
   },
   "outputs": [
    {
     "name": "stdout",
     "output_type": "stream",
     "text": [
      "<class 'pandas.core.frame.DataFrame'>\n",
      "RangeIndex: 891 entries, 0 to 890\n",
      "Data columns (total 12 columns):\n",
      " #   Column       Non-Null Count  Dtype  \n",
      "---  ------       --------------  -----  \n",
      " 0   PassengerId  891 non-null    int64  \n",
      " 1   Survived     891 non-null    int64  \n",
      " 2   Pclass       891 non-null    int64  \n",
      " 3   Name         891 non-null    object \n",
      " 4   Sex          891 non-null    object \n",
      " 5   Age          714 non-null    float64\n",
      " 6   SibSp        891 non-null    int64  \n",
      " 7   Parch        891 non-null    int64  \n",
      " 8   Ticket       891 non-null    object \n",
      " 9   Fare         891 non-null    float64\n",
      " 10  Cabin        204 non-null    object \n",
      " 11  Embarked     889 non-null    object \n",
      "dtypes: float64(2), int64(5), object(5)\n",
      "memory usage: 83.7+ KB\n"
     ]
    }
   ],
   "source": [
    "train = pd.read_csv('../input/titanic/train.csv')\n",
    "train.info()"
   ]
  },
  {
   "cell_type": "code",
   "execution_count": 4,
   "id": "f95d165e",
   "metadata": {
    "execution": {
     "iopub.execute_input": "2021-12-02T20:26:22.913817Z",
     "iopub.status.busy": "2021-12-02T20:26:22.913112Z",
     "iopub.status.idle": "2021-12-02T20:26:22.949148Z",
     "shell.execute_reply": "2021-12-02T20:26:22.948594Z",
     "shell.execute_reply.started": "2021-12-02T20:24:44.353952Z"
    },
    "papermill": {
     "duration": 0.083578,
     "end_time": "2021-12-02T20:26:22.949285",
     "exception": false,
     "start_time": "2021-12-02T20:26:22.865707",
     "status": "completed"
    },
    "tags": []
   },
   "outputs": [
    {
     "data": {
      "text/html": [
       "<div>\n",
       "<style scoped>\n",
       "    .dataframe tbody tr th:only-of-type {\n",
       "        vertical-align: middle;\n",
       "    }\n",
       "\n",
       "    .dataframe tbody tr th {\n",
       "        vertical-align: top;\n",
       "    }\n",
       "\n",
       "    .dataframe thead th {\n",
       "        text-align: right;\n",
       "    }\n",
       "</style>\n",
       "<table border=\"1\" class=\"dataframe\">\n",
       "  <thead>\n",
       "    <tr style=\"text-align: right;\">\n",
       "      <th></th>\n",
       "      <th>count</th>\n",
       "      <th>mean</th>\n",
       "      <th>std</th>\n",
       "      <th>min</th>\n",
       "      <th>25%</th>\n",
       "      <th>50%</th>\n",
       "      <th>75%</th>\n",
       "      <th>max</th>\n",
       "    </tr>\n",
       "  </thead>\n",
       "  <tbody>\n",
       "    <tr>\n",
       "      <th>PassengerId</th>\n",
       "      <td>891.0</td>\n",
       "      <td>446.000000</td>\n",
       "      <td>257.353842</td>\n",
       "      <td>1.00</td>\n",
       "      <td>223.5000</td>\n",
       "      <td>446.0000</td>\n",
       "      <td>668.5</td>\n",
       "      <td>891.0000</td>\n",
       "    </tr>\n",
       "    <tr>\n",
       "      <th>Survived</th>\n",
       "      <td>891.0</td>\n",
       "      <td>0.383838</td>\n",
       "      <td>0.486592</td>\n",
       "      <td>0.00</td>\n",
       "      <td>0.0000</td>\n",
       "      <td>0.0000</td>\n",
       "      <td>1.0</td>\n",
       "      <td>1.0000</td>\n",
       "    </tr>\n",
       "    <tr>\n",
       "      <th>Pclass</th>\n",
       "      <td>891.0</td>\n",
       "      <td>2.308642</td>\n",
       "      <td>0.836071</td>\n",
       "      <td>1.00</td>\n",
       "      <td>2.0000</td>\n",
       "      <td>3.0000</td>\n",
       "      <td>3.0</td>\n",
       "      <td>3.0000</td>\n",
       "    </tr>\n",
       "    <tr>\n",
       "      <th>Age</th>\n",
       "      <td>714.0</td>\n",
       "      <td>29.699118</td>\n",
       "      <td>14.526497</td>\n",
       "      <td>0.42</td>\n",
       "      <td>20.1250</td>\n",
       "      <td>28.0000</td>\n",
       "      <td>38.0</td>\n",
       "      <td>80.0000</td>\n",
       "    </tr>\n",
       "    <tr>\n",
       "      <th>SibSp</th>\n",
       "      <td>891.0</td>\n",
       "      <td>0.523008</td>\n",
       "      <td>1.102743</td>\n",
       "      <td>0.00</td>\n",
       "      <td>0.0000</td>\n",
       "      <td>0.0000</td>\n",
       "      <td>1.0</td>\n",
       "      <td>8.0000</td>\n",
       "    </tr>\n",
       "    <tr>\n",
       "      <th>Parch</th>\n",
       "      <td>891.0</td>\n",
       "      <td>0.381594</td>\n",
       "      <td>0.806057</td>\n",
       "      <td>0.00</td>\n",
       "      <td>0.0000</td>\n",
       "      <td>0.0000</td>\n",
       "      <td>0.0</td>\n",
       "      <td>6.0000</td>\n",
       "    </tr>\n",
       "    <tr>\n",
       "      <th>Fare</th>\n",
       "      <td>891.0</td>\n",
       "      <td>32.204208</td>\n",
       "      <td>49.693429</td>\n",
       "      <td>0.00</td>\n",
       "      <td>7.9104</td>\n",
       "      <td>14.4542</td>\n",
       "      <td>31.0</td>\n",
       "      <td>512.3292</td>\n",
       "    </tr>\n",
       "  </tbody>\n",
       "</table>\n",
       "</div>"
      ],
      "text/plain": [
       "             count        mean         std   min       25%       50%    75%  \\\n",
       "PassengerId  891.0  446.000000  257.353842  1.00  223.5000  446.0000  668.5   \n",
       "Survived     891.0    0.383838    0.486592  0.00    0.0000    0.0000    1.0   \n",
       "Pclass       891.0    2.308642    0.836071  1.00    2.0000    3.0000    3.0   \n",
       "Age          714.0   29.699118   14.526497  0.42   20.1250   28.0000   38.0   \n",
       "SibSp        891.0    0.523008    1.102743  0.00    0.0000    0.0000    1.0   \n",
       "Parch        891.0    0.381594    0.806057  0.00    0.0000    0.0000    0.0   \n",
       "Fare         891.0   32.204208   49.693429  0.00    7.9104   14.4542   31.0   \n",
       "\n",
       "                  max  \n",
       "PassengerId  891.0000  \n",
       "Survived       1.0000  \n",
       "Pclass         3.0000  \n",
       "Age           80.0000  \n",
       "SibSp          8.0000  \n",
       "Parch          6.0000  \n",
       "Fare         512.3292  "
      ]
     },
     "execution_count": 4,
     "metadata": {},
     "output_type": "execute_result"
    }
   ],
   "source": [
    "train.describe().T"
   ]
  },
  {
   "cell_type": "markdown",
   "id": "6917bda0",
   "metadata": {
    "papermill": {
     "duration": 0.03779,
     "end_time": "2021-12-02T20:26:23.026030",
     "exception": false,
     "start_time": "2021-12-02T20:26:22.988240",
     "status": "completed"
    },
    "tags": []
   },
   "source": [
    "# **Exploratory Data Analysis**"
   ]
  },
  {
   "cell_type": "code",
   "execution_count": 5,
   "id": "d89c3873",
   "metadata": {
    "execution": {
     "iopub.execute_input": "2021-12-02T20:26:23.106575Z",
     "iopub.status.busy": "2021-12-02T20:26:23.105883Z",
     "iopub.status.idle": "2021-12-02T20:26:23.346363Z",
     "shell.execute_reply": "2021-12-02T20:26:23.346883Z",
     "shell.execute_reply.started": "2021-12-02T20:24:44.411410Z"
    },
    "papermill": {
     "duration": 0.28271,
     "end_time": "2021-12-02T20:26:23.347052",
     "exception": false,
     "start_time": "2021-12-02T20:26:23.064342",
     "status": "completed"
    },
    "tags": []
   },
   "outputs": [
    {
     "data": {
      "image/png": "[encoded data removed]",
      "text/plain": [
       "<Figure size 432x288 with 1 Axes>"
      ]
     },
     "metadata": {
      "needs_background": "light"
     },
     "output_type": "display_data"
    }
   ],
   "source": [
    "X = ['Female','Male']\n",
    "\n",
    "female = train.loc[train[\"Sex\"] == 'female']\n",
    "male = train.loc[train[\"Sex\"] == 'male']\n",
    "\n",
    "total_female = len(female)\n",
    "total_male = len(male)\n",
    "\n",
    "Survived = [(len(female.loc[female[\"Survived\"] == 1])/total_female)*100,\n",
    "            (len(male.loc[male[\"Survived\"] == 1])/total_male)*100]\n",
    "Succumbed = [(len(female.loc[female[\"Survived\"] == 0])/total_female)*100,\n",
    "             (len(male.loc[male[\"Survived\"] == 0])/total_male)*100]\n",
    "  \n",
    "X_axis = np.arange(len(X))\n",
    "  \n",
    "plt.bar(X_axis - 0.2, Survived, 0.4, label = 'Survived')\n",
    "plt.bar(X_axis + 0.2, Succumbed, 0.4, label = 'Succumbed')\n",
    "  \n",
    "plt.xticks(X_axis, X)\n",
    "plt.xlabel(\"Groups\")\n",
    "plt.ylabel(\"Percentage of passengers\")\n",
    "plt.title(\"Sex of the passenger vs Survival\")\n",
    "plt.legend()\n",
    "plt.show()"
   ]
  },
  {
   "cell_type": "code",
   "execution_count": 6,
   "id": "35eba1e4",
   "metadata": {
    "execution": {
     "iopub.execute_input": "2021-12-02T20:26:23.435516Z",
     "iopub.status.busy": "2021-12-02T20:26:23.431240Z",
     "iopub.status.idle": "2021-12-02T20:26:23.765976Z",
     "shell.execute_reply": "2021-12-02T20:26:23.766491Z",
     "shell.execute_reply.started": "2021-12-02T20:24:44.668176Z"
    },
    "papermill": {
     "duration": 0.379012,
     "end_time": "2021-12-02T20:26:23.766664",
     "exception": false,
     "start_time": "2021-12-02T20:26:23.387652",
     "status": "completed"
    },
    "tags": []
   },
   "outputs": [
    {
     "data": {
      "image/png": "[encoded data removed]",
      "text/plain": [
       "<Figure size 720x288 with 1 Axes>"
      ]
     },
     "metadata": {},
     "output_type": "display_data"
    }
   ],
   "source": [
    "df = train\n",
    "\n",
    "def hist(df,feature,title,color):\n",
    "    \n",
    "    sns.set(palette=color)\n",
    "    fig = plt.figure(figsize = (10,4))\n",
    "    sns.histplot(df[feature], kde=True)\n",
    "    plt.title(title)\n",
    "    plt.show()\n",
    "    \n",
    "hist(df,'Age','Age hist','RdBu')"
   ]
  },
  {
   "cell_type": "code",
   "execution_count": 7,
   "id": "c01793c4",
   "metadata": {
    "execution": {
     "iopub.execute_input": "2021-12-02T20:26:23.861699Z",
     "iopub.status.busy": "2021-12-02T20:26:23.860606Z",
     "iopub.status.idle": "2021-12-02T20:26:24.067828Z",
     "shell.execute_reply": "2021-12-02T20:26:24.067279Z",
     "shell.execute_reply.started": "2021-12-02T20:24:45.017240Z"
    },
    "papermill": {
     "duration": 0.260369,
     "end_time": "2021-12-02T20:26:24.067972",
     "exception": false,
     "start_time": "2021-12-02T20:26:23.807603",
     "status": "completed"
    },
    "tags": []
   },
   "outputs": [
    {
     "data": {
      "image/png": "[encoded data removed]",
      "text/plain": [
       "<Figure size 432x288 with 1 Axes>"
      ]
     },
     "metadata": {},
     "output_type": "display_data"
    }
   ],
   "source": [
    "#Children (0-14 years) - C\n",
    "#Youth (15-24 years) - Y\n",
    "#Adults (25-64 years) - A\n",
    "#Seniors (65 years and over) - S\n",
    "\n",
    "def graphCat(female,male,xlabel,ylabel,title):\n",
    "    \n",
    "    X = ['Female','Male']\n",
    "\n",
    "    total_female = len(female)\n",
    "    total_male = len(male)\n",
    "    \n",
    "    Survived = []\n",
    "    Succumbed = []\n",
    "    \n",
    "    if(total_female == 0):\n",
    "        \n",
    "        Survived = [0,(len(male.loc[male[\"Survived\"] == 1])/total_male)*100]  \n",
    "        Succumbed = [0,(len(male.loc[male[\"Survived\"] == 0])/total_male)*100]\n",
    "    \n",
    "    else:\n",
    "        \n",
    "        Survived = [(len(female.loc[female[\"Survived\"] == 1])/total_female)*100\n",
    "                        ,(len(male.loc[male[\"Survived\"] == 1])/total_male)*100]\n",
    "        Succumbed = [(len(female.loc[female[\"Survived\"] == 0])/total_female)*100\n",
    "                         ,(len(male.loc[male[\"Survived\"] == 0])/total_male)*100]\n",
    "        \n",
    "    X_axis = np.arange(len(X))\n",
    "\n",
    "    plt.bar(X_axis - 0.2, Survived, 0.4, label = 'Survived')\n",
    "    plt.bar(X_axis + 0.2, Succumbed, 0.4, label = 'Succumbed')\n",
    "\n",
    "    plt.xticks(X_axis, X)\n",
    "    plt.xlabel(xlabel)\n",
    "    plt.ylabel(ylabel)\n",
    "    plt.title(title)\n",
    "    plt.legend()\n",
    "    plt.show()\n",
    "\n",
    "femaleC = female[female['Age'] < 15]                   \n",
    "maleC = male[male['Age'] < 15]\n",
    "\n",
    "graphCat(femaleC,maleC,\"Children\",\"Percentage of Children\",\"Sex of the Child vs Survival\")\n"
   ]
  },
  {
   "cell_type": "code",
   "execution_count": 8,
   "id": "3ad4db1c",
   "metadata": {
    "execution": {
     "iopub.execute_input": "2021-12-02T20:26:24.153430Z",
     "iopub.status.busy": "2021-12-02T20:26:24.152782Z",
     "iopub.status.idle": "2021-12-02T20:26:24.354508Z",
     "shell.execute_reply": "2021-12-02T20:26:24.355145Z",
     "shell.execute_reply.started": "2021-12-02T20:24:45.243706Z"
    },
    "papermill": {
     "duration": 0.246072,
     "end_time": "2021-12-02T20:26:24.355328",
     "exception": false,
     "start_time": "2021-12-02T20:26:24.109256",
     "status": "completed"
    },
    "tags": []
   },
   "outputs": [
    {
     "data": {
      "image/png": "[encoded data removed]",
      "text/plain": [
       "<Figure size 432x288 with 1 Axes>"
      ]
     },
     "metadata": {},
     "output_type": "display_data"
    }
   ],
   "source": [
    "\n",
    "femaleY = female[(female['Age'] >= 15) & (female['Age'] < 25)]\n",
    "maleY = male[(male['Age'] >= 15) & (male['Age'] < 25)]\n",
    "\n",
    "graphCat(femaleY,maleY,\"Youth\",\"Number of Youths\",\"Sex of the Youth vs Survival\")"
   ]
  },
  {
   "cell_type": "code",
   "execution_count": 9,
   "id": "9b0692cd",
   "metadata": {
    "execution": {
     "iopub.execute_input": "2021-12-02T20:26:24.442569Z",
     "iopub.status.busy": "2021-12-02T20:26:24.441895Z",
     "iopub.status.idle": "2021-12-02T20:26:24.660291Z",
     "shell.execute_reply": "2021-12-02T20:26:24.659799Z",
     "shell.execute_reply.started": "2021-12-02T20:24:45.455218Z"
    },
    "papermill": {
     "duration": 0.263623,
     "end_time": "2021-12-02T20:26:24.660469",
     "exception": false,
     "start_time": "2021-12-02T20:26:24.396846",
     "status": "completed"
    },
    "tags": []
   },
   "outputs": [
    {
     "data": {
      "image/png": "[encoded data removed]",
      "text/plain": [
       "<Figure size 432x288 with 1 Axes>"
      ]
     },
     "metadata": {},
     "output_type": "display_data"
    }
   ],
   "source": [
    "\n",
    "femaleA = female[(female['Age'] >= 25) & (female['Age'] < 65)]\n",
    "maleA = male[(male['Age'] >= 25) & (male['Age'] < 65)]\n",
    "\n",
    "graphCat(femaleA,maleA,\"Adults\",\"Number of Adults\",\"Sex of the Adult vs Survival\")"
   ]
  },
  {
   "cell_type": "code",
   "execution_count": 10,
   "id": "2479731c",
   "metadata": {
    "execution": {
     "iopub.execute_input": "2021-12-02T20:26:24.755543Z",
     "iopub.status.busy": "2021-12-02T20:26:24.754867Z",
     "iopub.status.idle": "2021-12-02T20:26:24.944141Z",
     "shell.execute_reply": "2021-12-02T20:26:24.943494Z",
     "shell.execute_reply.started": "2021-12-02T20:24:45.679964Z"
    },
    "papermill": {
     "duration": 0.241411,
     "end_time": "2021-12-02T20:26:24.944288",
     "exception": false,
     "start_time": "2021-12-02T20:26:24.702877",
     "status": "completed"
    },
    "tags": []
   },
   "outputs": [
    {
     "data": {
      "image/png": "[encoded data removed]",
      "text/plain": [
       "<Figure size 432x288 with 1 Axes>"
      ]
     },
     "metadata": {},
     "output_type": "display_data"
    }
   ],
   "source": [
    "\n",
    "femaleS = female[female['Age'] >= 65]\n",
    "maleS = male[male['Age'] >= 65]\n",
    "\n",
    "graphCat(femaleS,maleS,\"Senior\",\"Number of Seniors\",\"Sex of the Senior vs Survival\")"
   ]
  },
  {
   "cell_type": "code",
   "execution_count": 11,
   "id": "cf8672bc",
   "metadata": {
    "execution": {
     "iopub.execute_input": "2021-12-02T20:26:25.038884Z",
     "iopub.status.busy": "2021-12-02T20:26:25.038148Z",
     "iopub.status.idle": "2021-12-02T20:26:25.337607Z",
     "shell.execute_reply": "2021-12-02T20:26:25.337027Z",
     "shell.execute_reply.started": "2021-12-02T20:24:45.886602Z"
    },
    "papermill": {
     "duration": 0.348709,
     "end_time": "2021-12-02T20:26:25.337747",
     "exception": false,
     "start_time": "2021-12-02T20:26:24.989038",
     "status": "completed"
    },
    "tags": []
   },
   "outputs": [
    {
     "data": {
      "image/png": "[encoded data removed]",
      "text/plain": [
       "<Figure size 432x288 with 1 Axes>"
      ]
     },
     "metadata": {},
     "output_type": "display_data"
    }
   ],
   "source": [
    "train.plot.scatter(x = 'Survived', y = 'Fare', s = 10);"
   ]
  },
  {
   "cell_type": "code",
   "execution_count": 12,
   "id": "e0dc3d51",
   "metadata": {
    "execution": {
     "iopub.execute_input": "2021-12-02T20:26:25.429674Z",
     "iopub.status.busy": "2021-12-02T20:26:25.428932Z",
     "iopub.status.idle": "2021-12-02T20:26:25.682642Z",
     "shell.execute_reply": "2021-12-02T20:26:25.683103Z",
     "shell.execute_reply.started": "2021-12-02T20:24:46.232338Z"
    },
    "papermill": {
     "duration": 0.301461,
     "end_time": "2021-12-02T20:26:25.683283",
     "exception": false,
     "start_time": "2021-12-02T20:26:25.381822",
     "status": "completed"
    },
    "tags": []
   },
   "outputs": [
    {
     "data": {
      "image/png": "[encoded data removed]",
      "text/plain": [
       "<Figure size 720x360 with 1 Axes>"
      ]
     },
     "metadata": {},
     "output_type": "display_data"
    }
   ],
   "source": [
    "\n",
    "def familyFirst(category,xlabel,ylabel,title):\n",
    "    \n",
    "    p = train.groupby(category)\n",
    "    \n",
    "    sizes_total = list(p.size())\n",
    "    num = list(p.groups.keys())  \n",
    "    \n",
    "    fam = train[train['Survived'] == 1].groupby(category)\n",
    "    sizes = list(fam.size())\n",
    "    \n",
    "    perc = []\n",
    "    \n",
    "    for i in range(len(sizes_total)):\n",
    "        \n",
    "        if i <= len(sizes)-1:\n",
    "            perc.append((sizes[i]/sizes_total[i])*100)\n",
    "        else:\n",
    "            perc.append(0)\n",
    "    \n",
    "    \n",
    "    fig = plt.figure(figsize = (10, 5))\n",
    "    plt.bar(num, perc, color ='purple')\n",
    "\n",
    "    plt.xlabel(xlabel)\n",
    "    plt.ylabel(ylabel)\n",
    "    plt.title(title)\n",
    "    plt.show()\n",
    "    \n",
    "familyFirst('SibSp','Number of Siblings/Spouse','Fraction of passengers who survived','Family and survival')"
   ]
  },
  {
   "cell_type": "code",
   "execution_count": 13,
   "id": "6ce03cb2",
   "metadata": {
    "execution": {
     "iopub.execute_input": "2021-12-02T20:26:25.776624Z",
     "iopub.status.busy": "2021-12-02T20:26:25.776023Z",
     "iopub.status.idle": "2021-12-02T20:26:26.042890Z",
     "shell.execute_reply": "2021-12-02T20:26:26.043448Z",
     "shell.execute_reply.started": "2021-12-02T20:24:46.501203Z"
    },
    "papermill": {
     "duration": 0.315324,
     "end_time": "2021-12-02T20:26:26.043622",
     "exception": false,
     "start_time": "2021-12-02T20:26:25.728298",
     "status": "completed"
    },
    "tags": []
   },
   "outputs": [
    {
     "data": {
      "image/png": "[encoded data removed]",
      "text/plain": [
       "<Figure size 720x360 with 1 Axes>"
      ]
     },
     "metadata": {},
     "output_type": "display_data"
    }
   ],
   "source": [
    "\n",
    "familyFirst('Parch','Number of Parents/Children','Number of passengers who survived','Family and survival')\n"
   ]
  },
  {
   "cell_type": "code",
   "execution_count": 14,
   "id": "c1404230",
   "metadata": {
    "execution": {
     "iopub.execute_input": "2021-12-02T20:26:26.138380Z",
     "iopub.status.busy": "2021-12-02T20:26:26.137742Z",
     "iopub.status.idle": "2021-12-02T20:26:26.369878Z",
     "shell.execute_reply": "2021-12-02T20:26:26.370406Z",
     "shell.execute_reply.started": "2021-12-02T20:24:46.787333Z"
    },
    "papermill": {
     "duration": 0.281079,
     "end_time": "2021-12-02T20:26:26.370579",
     "exception": false,
     "start_time": "2021-12-02T20:26:26.089500",
     "status": "completed"
    },
    "tags": []
   },
   "outputs": [
    {
     "data": {
      "image/png": "[encoded data removed]",
      "text/plain": [
       "<Figure size 432x288 with 1 Axes>"
      ]
     },
     "metadata": {},
     "output_type": "display_data"
    }
   ],
   "source": [
    "def Pclass(df,xlabel,ylabel,title):\n",
    "    \n",
    "    pc1 = df[df['Pclass'] == 1]\n",
    "    pc2 = df[df['Pclass'] == 2]\n",
    "    pc3 = df[df['Pclass'] == 3]\n",
    "\n",
    "    total_pc1 = len(pc1)\n",
    "    total_pc2 = len(pc2)\n",
    "    total_pc3 = len(pc3)\n",
    "\n",
    "    X = ['class 1','class 2','class 3']\n",
    "\n",
    "    Survived = [(len(pc1[pc1['Survived'] == 1])/total_pc1)*100,\n",
    "                (len(pc2[pc2['Survived'] == 1])/total_pc2)*100,\n",
    "                (len(pc3[pc3['Survived'] == 1])/total_pc3)*100]\n",
    "\n",
    "    Succumbed = [(len(pc1[pc1['Survived'] == 0])/total_pc1)*100,\n",
    "                 (len(pc2[pc2['Survived'] == 0])/total_pc2)*100,\n",
    "                 (len(pc3[pc3['Survived'] == 0])/total_pc3)*100]\n",
    "\n",
    "    X_axis = np.arange(len(X))\n",
    "\n",
    "    plt.bar(X_axis - 0.2, Survived, 0.4, label = 'Survived')\n",
    "    plt.bar(X_axis + 0.2, Succumbed, 0.4, label = 'Succumbed')\n",
    "\n",
    "    plt.xticks(X_axis, X)\n",
    "    plt.xlabel(xlabel)\n",
    "    plt.ylabel(ylabel)\n",
    "    plt.title(title)\n",
    "    plt.legend()\n",
    "    plt.show()\n",
    "    \n",
    "Pclass(train,\"Socio-economic standing\",\"Percentage of passengers\",\"Socio-economic status vs Survival\")"
   ]
  },
  {
   "cell_type": "code",
   "execution_count": 15,
   "id": "323245a5",
   "metadata": {
    "execution": {
     "iopub.execute_input": "2021-12-02T20:26:26.466907Z",
     "iopub.status.busy": "2021-12-02T20:26:26.466297Z",
     "iopub.status.idle": "2021-12-02T20:26:26.803339Z",
     "shell.execute_reply": "2021-12-02T20:26:26.803925Z",
     "shell.execute_reply.started": "2021-12-02T20:24:47.040844Z"
    },
    "papermill": {
     "duration": 0.386911,
     "end_time": "2021-12-02T20:26:26.804084",
     "exception": false,
     "start_time": "2021-12-02T20:26:26.417173",
     "status": "completed"
    },
    "tags": []
   },
   "outputs": [
    {
     "data": {
      "image/png": "[encoded data removed]",
      "text/plain": [
       "<Figure size 432x288 with 1 Axes>"
      ]
     },
     "metadata": {},
     "output_type": "display_data"
    }
   ],
   "source": [
    "Pclass(female,\"Socio-economic standing\",\"Percentage of passengers\",\"Socio-economic status vs Survival\")"
   ]
  },
  {
   "cell_type": "code",
   "execution_count": 16,
   "id": "bbb68401",
   "metadata": {
    "execution": {
     "iopub.execute_input": "2021-12-02T20:26:26.904714Z",
     "iopub.status.busy": "2021-12-02T20:26:26.904085Z",
     "iopub.status.idle": "2021-12-02T20:26:27.104676Z",
     "shell.execute_reply": "2021-12-02T20:26:27.104170Z",
     "shell.execute_reply.started": "2021-12-02T20:24:47.397064Z"
    },
    "papermill": {
     "duration": 0.250681,
     "end_time": "2021-12-02T20:26:27.104815",
     "exception": false,
     "start_time": "2021-12-02T20:26:26.854134",
     "status": "completed"
    },
    "tags": []
   },
   "outputs": [
    {
     "data": {
      "text/plain": [
       "[Text(0.5, 0, 'Embarked at'), Text(0, 0.5, 'Survival Rate')]"
      ]
     },
     "execution_count": 16,
     "metadata": {},
     "output_type": "execute_result"
    },
    {
     "data": {
      "image/png": "[encoded data removed]",
      "text/plain": [
       "<Figure size 432x288 with 1 Axes>"
      ]
     },
     "metadata": {},
     "output_type": "display_data"
    }
   ],
   "source": [
    "emb_surv = train[train['Survived'] == 1].groupby('Embarked')\n",
    "surv = list(emb_surv.size())\n",
    "\n",
    "total = list(train.groupby('Embarked').size())\n",
    "\n",
    "X = ['C','Q','S']\n",
    "\n",
    "perc_surv = []\n",
    "\n",
    "for i in range(len(total)):\n",
    "    \n",
    "    survived = int(surv[i])\n",
    "    tot = int(total[i])\n",
    "    percentage = (survived/tot)*100\n",
    "    \n",
    "    perc_surv.append(percentage)\n",
    "    \n",
    "fig, ax = plt.subplots(1)\n",
    "ax.bar(X, perc_surv, color ='purple')\n",
    "ax.set(xlabel='Embarked at', ylabel='Survival Rate')\n"
   ]
  },
  {
   "cell_type": "code",
   "execution_count": 17,
   "id": "977def69",
   "metadata": {
    "execution": {
     "iopub.execute_input": "2021-12-02T20:26:27.205367Z",
     "iopub.status.busy": "2021-12-02T20:26:27.204702Z",
     "iopub.status.idle": "2021-12-02T20:26:27.434741Z",
     "shell.execute_reply": "2021-12-02T20:26:27.434176Z",
     "shell.execute_reply.started": "2021-12-02T20:24:47.628125Z"
    },
    "papermill": {
     "duration": 0.28148,
     "end_time": "2021-12-02T20:26:27.434880",
     "exception": false,
     "start_time": "2021-12-02T20:26:27.153400",
     "status": "completed"
    },
    "tags": []
   },
   "outputs": [
    {
     "name": "stderr",
     "output_type": "stream",
     "text": [
      "/opt/conda/lib/python3.7/site-packages/seaborn/_decorators.py:43: FutureWarning: Pass the following variable as a keyword arg: x. From version 0.12, the only valid positional argument will be `data`, and passing other arguments without an explicit keyword will result in an error or misinterpretation.\n",
      "  FutureWarning\n"
     ]
    },
    {
     "data": {
      "text/plain": [
       "<AxesSubplot:xlabel='Fare'>"
      ]
     },
     "execution_count": 17,
     "metadata": {},
     "output_type": "execute_result"
    },
    {
     "data": {
      "image/png": "[encoded data removed]",
      "text/plain": [
       "<Figure size 432x288 with 1 Axes>"
      ]
     },
     "metadata": {},
     "output_type": "display_data"
    }
   ],
   "source": [
    "sns.boxplot(train['Fare'])"
   ]
  },
  {
   "cell_type": "markdown",
   "id": "3a474e1d",
   "metadata": {
    "papermill": {
     "duration": 0.04986,
     "end_time": "2021-12-02T20:26:27.534939",
     "exception": false,
     "start_time": "2021-12-02T20:26:27.485079",
     "status": "completed"
    },
    "tags": []
   },
   "source": [
    "# **Feature Engineering**"
   ]
  },
  {
   "cell_type": "code",
   "execution_count": 18,
   "id": "288db9d9",
   "metadata": {
    "execution": {
     "iopub.execute_input": "2021-12-02T20:26:27.651730Z",
     "iopub.status.busy": "2021-12-02T20:26:27.651087Z",
     "iopub.status.idle": "2021-12-02T20:26:27.654439Z",
     "shell.execute_reply": "2021-12-02T20:26:27.653917Z",
     "shell.execute_reply.started": "2021-12-02T20:24:47.875205Z"
    },
    "papermill": {
     "duration": 0.069181,
     "end_time": "2021-12-02T20:26:27.654572",
     "exception": false,
     "start_time": "2021-12-02T20:26:27.585391",
     "status": "completed"
    },
    "tags": []
   },
   "outputs": [
    {
     "data": {
      "text/html": [
       "<div>\n",
       "<style scoped>\n",
       "    .dataframe tbody tr th:only-of-type {\n",
       "        vertical-align: middle;\n",
       "    }\n",
       "\n",
       "    .dataframe tbody tr th {\n",
       "        vertical-align: top;\n",
       "    }\n",
       "\n",
       "    .dataframe thead th {\n",
       "        text-align: right;\n",
       "    }\n",
       "</style>\n",
       "<table border=\"1\" class=\"dataframe\">\n",
       "  <thead>\n",
       "    <tr style=\"text-align: right;\">\n",
       "      <th></th>\n",
       "      <th>PassengerId</th>\n",
       "      <th>Survived</th>\n",
       "      <th>Pclass</th>\n",
       "      <th>Name</th>\n",
       "      <th>Sex</th>\n",
       "      <th>Age</th>\n",
       "      <th>SibSp</th>\n",
       "      <th>Parch</th>\n",
       "      <th>Ticket</th>\n",
       "      <th>Fare</th>\n",
       "      <th>Cabin</th>\n",
       "      <th>Embarked</th>\n",
       "    </tr>\n",
       "  </thead>\n",
       "  <tbody>\n",
       "    <tr>\n",
       "      <th>0</th>\n",
       "      <td>1</td>\n",
       "      <td>0</td>\n",
       "      <td>3</td>\n",
       "      <td>Braund, Mr. Owen Harris</td>\n",
       "      <td>male</td>\n",
       "      <td>22.0</td>\n",
       "      <td>1</td>\n",
       "      <td>0</td>\n",
       "      <td>A/5 21171</td>\n",
       "      <td>7.2500</td>\n",
       "      <td>NaN</td>\n",
       "      <td>S</td>\n",
       "    </tr>\n",
       "    <tr>\n",
       "      <th>1</th>\n",
       "      <td>2</td>\n",
       "      <td>1</td>\n",
       "      <td>1</td>\n",
       "      <td>Cumings, Mrs. John Bradley (Florence Briggs Th...</td>\n",
       "      <td>female</td>\n",
       "      <td>38.0</td>\n",
       "      <td>1</td>\n",
       "      <td>0</td>\n",
       "      <td>PC 17599</td>\n",
       "      <td>71.2833</td>\n",
       "      <td>C85</td>\n",
       "      <td>C</td>\n",
       "    </tr>\n",
       "    <tr>\n",
       "      <th>2</th>\n",
       "      <td>3</td>\n",
       "      <td>1</td>\n",
       "      <td>3</td>\n",
       "      <td>Heikkinen, Miss. Laina</td>\n",
       "      <td>female</td>\n",
       "      <td>26.0</td>\n",
       "      <td>0</td>\n",
       "      <td>0</td>\n",
       "      <td>STON/O2. 3101282</td>\n",
       "      <td>7.9250</td>\n",
       "      <td>NaN</td>\n",
       "      <td>S</td>\n",
       "    </tr>\n",
       "    <tr>\n",
       "      <th>3</th>\n",
       "      <td>4</td>\n",
       "      <td>1</td>\n",
       "      <td>1</td>\n",
       "      <td>Futrelle, Mrs. Jacques Heath (Lily May Peel)</td>\n",
       "      <td>female</td>\n",
       "      <td>35.0</td>\n",
       "      <td>1</td>\n",
       "      <td>0</td>\n",
       "      <td>113803</td>\n",
       "      <td>53.1000</td>\n",
       "      <td>C123</td>\n",
       "      <td>S</td>\n",
       "    </tr>\n",
       "    <tr>\n",
       "      <th>4</th>\n",
       "      <td>5</td>\n",
       "      <td>0</td>\n",
       "      <td>3</td>\n",
       "      <td>Allen, Mr. William Henry</td>\n",
       "      <td>male</td>\n",
       "      <td>35.0</td>\n",
       "      <td>0</td>\n",
       "      <td>0</td>\n",
       "      <td>373450</td>\n",
       "      <td>8.0500</td>\n",
       "      <td>NaN</td>\n",
       "      <td>S</td>\n",
       "    </tr>\n",
       "  </tbody>\n",
       "</table>\n",
       "</div>"
      ],
      "text/plain": [
       "   PassengerId  Survived  Pclass  \\\n",
       "0            1         0       3   \n",
       "1            2         1       1   \n",
       "2            3         1       3   \n",
       "3            4         1       1   \n",
       "4            5         0       3   \n",
       "\n",
       "                                                Name     Sex   Age  SibSp  \\\n",
       "0                            Braund, Mr. Owen Harris    male  22.0      1   \n",
       "1  Cumings, Mrs. John Bradley (Florence Briggs Th...  female  38.0      1   \n",
       "2                             Heikkinen, Miss. Laina  female  26.0      0   \n",
       "3       Futrelle, Mrs. Jacques Heath (Lily May Peel)  female  35.0      1   \n",
       "4                           Allen, Mr. William Henry    male  35.0      0   \n",
       "\n",
       "   Parch            Ticket     Fare Cabin Embarked  \n",
       "0      0         A/5 21171   7.2500   NaN        S  \n",
       "1      0          PC 17599  71.2833   C85        C  \n",
       "2      0  STON/O2. 3101282   7.9250   NaN        S  \n",
       "3      0            113803  53.1000  C123        S  \n",
       "4      0            373450   8.0500   NaN        S  "
      ]
     },
     "execution_count": 18,
     "metadata": {},
     "output_type": "execute_result"
    }
   ],
   "source": [
    "train.head()"
   ]
  },
  {
   "cell_type": "code",
   "execution_count": 19,
   "id": "49c58d93",
   "metadata": {
    "execution": {
     "iopub.execute_input": "2021-12-02T20:26:27.760365Z",
     "iopub.status.busy": "2021-12-02T20:26:27.759655Z",
     "iopub.status.idle": "2021-12-02T20:26:27.781874Z",
     "shell.execute_reply": "2021-12-02T20:26:27.782463Z",
     "shell.execute_reply.started": "2021-12-02T20:24:47.895741Z"
    },
    "papermill": {
     "duration": 0.077769,
     "end_time": "2021-12-02T20:26:27.782641",
     "exception": false,
     "start_time": "2021-12-02T20:26:27.704872",
     "status": "completed"
    },
    "tags": []
   },
   "outputs": [
    {
     "data": {
      "text/html": [
       "<div>\n",
       "<style scoped>\n",
       "    .dataframe tbody tr th:only-of-type {\n",
       "        vertical-align: middle;\n",
       "    }\n",
       "\n",
       "    .dataframe tbody tr th {\n",
       "        vertical-align: top;\n",
       "    }\n",
       "\n",
       "    .dataframe thead th {\n",
       "        text-align: right;\n",
       "    }\n",
       "</style>\n",
       "<table border=\"1\" class=\"dataframe\">\n",
       "  <thead>\n",
       "    <tr style=\"text-align: right;\">\n",
       "      <th></th>\n",
       "      <th>PassengerId</th>\n",
       "      <th>Pclass</th>\n",
       "      <th>Name</th>\n",
       "      <th>Sex</th>\n",
       "      <th>Age</th>\n",
       "      <th>SibSp</th>\n",
       "      <th>Parch</th>\n",
       "      <th>Ticket</th>\n",
       "      <th>Fare</th>\n",
       "      <th>Cabin</th>\n",
       "      <th>Embarked</th>\n",
       "    </tr>\n",
       "  </thead>\n",
       "  <tbody>\n",
       "    <tr>\n",
       "      <th>0</th>\n",
       "      <td>892</td>\n",
       "      <td>3</td>\n",
       "      <td>Kelly, Mr. James</td>\n",
       "      <td>male</td>\n",
       "      <td>34.5</td>\n",
       "      <td>0</td>\n",
       "      <td>0</td>\n",
       "      <td>330911</td>\n",
       "      <td>7.8292</td>\n",
       "      <td>NaN</td>\n",
       "      <td>Q</td>\n",
       "    </tr>\n",
       "    <tr>\n",
       "      <th>1</th>\n",
       "      <td>893</td>\n",
       "      <td>3</td>\n",
       "      <td>Wilkes, Mrs. James (Ellen Needs)</td>\n",
       "      <td>female</td>\n",
       "      <td>47.0</td>\n",
       "      <td>1</td>\n",
       "      <td>0</td>\n",
       "      <td>363272</td>\n",
       "      <td>7.0000</td>\n",
       "      <td>NaN</td>\n",
       "      <td>S</td>\n",
       "    </tr>\n",
       "    <tr>\n",
       "      <th>2</th>\n",
       "      <td>894</td>\n",
       "      <td>2</td>\n",
       "      <td>Myles, Mr. Thomas Francis</td>\n",
       "      <td>male</td>\n",
       "      <td>62.0</td>\n",
       "      <td>0</td>\n",
       "      <td>0</td>\n",
       "      <td>240276</td>\n",
       "      <td>9.6875</td>\n",
       "      <td>NaN</td>\n",
       "      <td>Q</td>\n",
       "    </tr>\n",
       "    <tr>\n",
       "      <th>3</th>\n",
       "      <td>895</td>\n",
       "      <td>3</td>\n",
       "      <td>Wirz, Mr. Albert</td>\n",
       "      <td>male</td>\n",
       "      <td>27.0</td>\n",
       "      <td>0</td>\n",
       "      <td>0</td>\n",
       "      <td>315154</td>\n",
       "      <td>8.6625</td>\n",
       "      <td>NaN</td>\n",
       "      <td>S</td>\n",
       "    </tr>\n",
       "    <tr>\n",
       "      <th>4</th>\n",
       "      <td>896</td>\n",
       "      <td>3</td>\n",
       "      <td>Hirvonen, Mrs. Alexander (Helga E Lindqvist)</td>\n",
       "      <td>female</td>\n",
       "      <td>22.0</td>\n",
       "      <td>1</td>\n",
       "      <td>1</td>\n",
       "      <td>3101298</td>\n",
       "      <td>12.2875</td>\n",
       "      <td>NaN</td>\n",
       "      <td>S</td>\n",
       "    </tr>\n",
       "  </tbody>\n",
       "</table>\n",
       "</div>"
      ],
      "text/plain": [
       "   PassengerId  Pclass                                          Name     Sex  \\\n",
       "0          892       3                              Kelly, Mr. James    male   \n",
       "1          893       3              Wilkes, Mrs. James (Ellen Needs)  female   \n",
       "2          894       2                     Myles, Mr. Thomas Francis    male   \n",
       "3          895       3                              Wirz, Mr. Albert    male   \n",
       "4          896       3  Hirvonen, Mrs. Alexander (Helga E Lindqvist)  female   \n",
       "\n",
       "    Age  SibSp  Parch   Ticket     Fare Cabin Embarked  \n",
       "0  34.5      0      0   330911   7.8292   NaN        Q  \n",
       "1  47.0      1      0   363272   7.0000   NaN        S  \n",
       "2  62.0      0      0   240276   9.6875   NaN        Q  \n",
       "3  27.0      0      0   315154   8.6625   NaN        S  \n",
       "4  22.0      1      1  3101298  12.2875   NaN        S  "
      ]
     },
     "execution_count": 19,
     "metadata": {},
     "output_type": "execute_result"
    }
   ],
   "source": [
    "test = pd.read_csv('../input/titanic/test.csv')\n",
    "test.head()"
   ]
  },
  {
   "cell_type": "markdown",
   "id": "3ddfa3e0",
   "metadata": {
    "papermill": {
     "duration": 0.051308,
     "end_time": "2021-12-02T20:26:27.886269",
     "exception": false,
     "start_time": "2021-12-02T20:26:27.834961",
     "status": "completed"
    },
    "tags": []
   },
   "source": [
    "# Finding Numerical and Non-numerical features."
   ]
  },
  {
   "cell_type": "code",
   "execution_count": 20,
   "id": "66104793",
   "metadata": {
    "execution": {
     "iopub.execute_input": "2021-12-02T20:26:27.993240Z",
     "iopub.status.busy": "2021-12-02T20:26:27.992615Z",
     "iopub.status.idle": "2021-12-02T20:26:28.000127Z",
     "shell.execute_reply": "2021-12-02T20:26:28.000712Z",
     "shell.execute_reply.started": "2021-12-02T20:24:47.929713Z"
    },
    "papermill": {
     "duration": 0.062291,
     "end_time": "2021-12-02T20:26:28.000876",
     "exception": false,
     "start_time": "2021-12-02T20:26:27.938585",
     "status": "completed"
    },
    "tags": []
   },
   "outputs": [
    {
     "name": "stdout",
     "output_type": "stream",
     "text": [
      "Numerical features in\n",
      "train df\n",
      "['PassengerId', 'Survived', 'Pclass', 'Age', 'SibSp', 'Parch', 'Fare']\n",
      "test df\n",
      "['PassengerId', 'Pclass', 'Age', 'SibSp', 'Parch', 'Fare']\n"
     ]
    }
   ],
   "source": [
    "print(\"Numerical features in\")\n",
    "print('train df')\n",
    "numf_train = [feature for feature in list(train.columns) if ((train[feature].dtype == int) or (train[feature].dtype == float))]\n",
    "print(numf_train)\n",
    "print('test df')\n",
    "numf_test = [feature for feature in list(test.columns) if ((test[feature].dtype == int) or (test[feature].dtype == float))]\n",
    "print(numf_test)"
   ]
  },
  {
   "cell_type": "code",
   "execution_count": 21,
   "id": "29fd29ac",
   "metadata": {
    "execution": {
     "iopub.execute_input": "2021-12-02T20:26:28.112986Z",
     "iopub.status.busy": "2021-12-02T20:26:28.112239Z",
     "iopub.status.idle": "2021-12-02T20:26:28.115668Z",
     "shell.execute_reply": "2021-12-02T20:26:28.116156Z",
     "shell.execute_reply.started": "2021-12-02T20:24:47.943400Z"
    },
    "papermill": {
     "duration": 0.062373,
     "end_time": "2021-12-02T20:26:28.116334",
     "exception": false,
     "start_time": "2021-12-02T20:26:28.053961",
     "status": "completed"
    },
    "tags": []
   },
   "outputs": [
    {
     "name": "stdout",
     "output_type": "stream",
     "text": [
      "Non-numerical features in\n",
      "train df\n",
      "['Name', 'Sex', 'Ticket', 'Cabin', 'Embarked']\n",
      "test df\n",
      "['Name', 'Sex', 'Ticket', 'Cabin', 'Embarked']\n"
     ]
    }
   ],
   "source": [
    "print(\"Non-numerical features in\")\n",
    "print('train df')\n",
    "nonnumf_train = [feature for feature in list(train.columns) if (train[feature].dtype == object)]\n",
    "print(nonnumf_train)\n",
    "print('test df')\n",
    "nonnumf_test = [feature for feature in list(test.columns) if (train[feature].dtype == object)]\n",
    "print(nonnumf_test)\n"
   ]
  },
  {
   "cell_type": "markdown",
   "id": "15248518",
   "metadata": {
    "papermill": {
     "duration": 0.051236,
     "end_time": "2021-12-02T20:26:28.219242",
     "exception": false,
     "start_time": "2021-12-02T20:26:28.168006",
     "status": "completed"
    },
    "tags": []
   },
   "source": [
    "# Find features with NaN values."
   ]
  },
  {
   "cell_type": "code",
   "execution_count": 22,
   "id": "eed65637",
   "metadata": {
    "execution": {
     "iopub.execute_input": "2021-12-02T20:26:28.338327Z",
     "iopub.status.busy": "2021-12-02T20:26:28.337483Z",
     "iopub.status.idle": "2021-12-02T20:26:28.341273Z",
     "shell.execute_reply": "2021-12-02T20:26:28.340760Z",
     "shell.execute_reply.started": "2021-12-02T20:24:47.959228Z"
    },
    "papermill": {
     "duration": 0.064931,
     "end_time": "2021-12-02T20:26:28.341423",
     "exception": false,
     "start_time": "2021-12-02T20:26:28.276492",
     "status": "completed"
    },
    "tags": []
   },
   "outputs": [
    {
     "name": "stdout",
     "output_type": "stream",
     "text": [
      "Numerical features with NaN in\n",
      "train df\n",
      "['Age']\n",
      "test df\n",
      "['Age', 'Fare']\n"
     ]
    }
   ],
   "source": [
    "print('Numerical features with NaN in')\n",
    "print('train df')\n",
    "numf_train_NaN = [feature for feature in numf_train if train[feature].isnull().sum() > 0]\n",
    "print(numf_train_NaN)\n",
    "print('test df')\n",
    "numf_test_NaN = [feature for feature in numf_test if test[feature].isnull().sum() > 0]\n",
    "print(numf_test_NaN)"
   ]
  },
  {
   "cell_type": "code",
   "execution_count": 23,
   "id": "04cb4b6a",
   "metadata": {
    "execution": {
     "iopub.execute_input": "2021-12-02T20:26:28.448276Z",
     "iopub.status.busy": "2021-12-02T20:26:28.447661Z",
     "iopub.status.idle": "2021-12-02T20:26:28.456529Z",
     "shell.execute_reply": "2021-12-02T20:26:28.457006Z",
     "shell.execute_reply.started": "2021-12-02T20:24:47.976652Z"
    },
    "papermill": {
     "duration": 0.063682,
     "end_time": "2021-12-02T20:26:28.457167",
     "exception": false,
     "start_time": "2021-12-02T20:26:28.393485",
     "status": "completed"
    },
    "tags": []
   },
   "outputs": [
    {
     "name": "stdout",
     "output_type": "stream",
     "text": [
      "Non-numerical features with NaN in\n",
      "train df\n",
      "['Cabin', 'Embarked']\n",
      "test df\n",
      "['Cabin']\n"
     ]
    }
   ],
   "source": [
    "print('Non-numerical features with NaN in')\n",
    "print('train df')\n",
    "nonnumf_train_NaN = [feature for feature in nonnumf_train if train[feature].isnull().sum() > 0]\n",
    "print(nonnumf_train_NaN)\n",
    "print('test df')\n",
    "nonnumf_test_NaN = [feature for feature in nonnumf_test if test[feature].isnull().sum() > 0]\n",
    "print(nonnumf_test_NaN)"
   ]
  },
  {
   "cell_type": "markdown",
   "id": "aa54db55",
   "metadata": {
    "papermill": {
     "duration": 0.052117,
     "end_time": "2021-12-02T20:26:28.561725",
     "exception": false,
     "start_time": "2021-12-02T20:26:28.509608",
     "status": "completed"
    },
    "tags": []
   },
   "source": [
    "# Imputation"
   ]
  },
  {
   "cell_type": "code",
   "execution_count": 24,
   "id": "f4d6f860",
   "metadata": {
    "execution": {
     "iopub.execute_input": "2021-12-02T20:26:28.669097Z",
     "iopub.status.busy": "2021-12-02T20:26:28.668463Z",
     "iopub.status.idle": "2021-12-02T20:26:29.004440Z",
     "shell.execute_reply": "2021-12-02T20:26:29.003793Z",
     "shell.execute_reply.started": "2021-12-02T20:24:47.995692Z"
    },
    "papermill": {
     "duration": 0.390762,
     "end_time": "2021-12-02T20:26:29.004624",
     "exception": false,
     "start_time": "2021-12-02T20:26:28.613862",
     "status": "completed"
    },
    "tags": []
   },
   "outputs": [],
   "source": [
    "from sklearn.impute import SimpleImputer\n",
    "\n",
    "imp_mean = SimpleImputer(missing_values=np.nan, strategy='mean')\n",
    "imp_mode = SimpleImputer(missing_values=np.nan, strategy='most_frequent')\n",
    "\n",
    "for feature in numf_train_NaN:\n",
    "    imp_mean = imp_mean.fit(train[feature].values.reshape(-1,1))\n",
    "    train[feature] = imp_mean.transform(train[feature].values.reshape(-1,1))\n",
    "    \n",
    "for feature in numf_test_NaN:\n",
    "    imp_mean = imp_mean.fit(test[feature].values.reshape(-1,1))\n",
    "    test[feature] = imp_mean.transform(test[feature].values.reshape(-1,1))\n",
    "\n",
    "for feature in nonnumf_train_NaN:\n",
    "    imp_mode = imp_mode.fit(train[feature].values.reshape(-1,1))\n",
    "    train[feature] = imp_mode.transform(train[feature].values.reshape(-1,1))\n",
    "    \n",
    "for feature in nonnumf_test_NaN:\n",
    "    imp_mode = imp_mode.fit(test[feature].values.reshape(-1,1))\n",
    "    test[feature] = imp_mode.transform(test[feature].values.reshape(-1,1))\n"
   ]
  },
  {
   "cell_type": "code",
   "execution_count": 25,
   "id": "2be0fe68",
   "metadata": {
    "execution": {
     "iopub.execute_input": "2021-12-02T20:26:29.115747Z",
     "iopub.status.busy": "2021-12-02T20:26:29.115060Z",
     "iopub.status.idle": "2021-12-02T20:26:29.518347Z",
     "shell.execute_reply": "2021-12-02T20:26:29.517764Z",
     "shell.execute_reply.started": "2021-12-02T20:24:48.370060Z"
    },
    "papermill": {
     "duration": 0.46005,
     "end_time": "2021-12-02T20:26:29.518533",
     "exception": false,
     "start_time": "2021-12-02T20:26:29.058483",
     "status": "completed"
    },
    "tags": []
   },
   "outputs": [
    {
     "data": {
      "text/plain": [
       "<AxesSubplot:>"
      ]
     },
     "execution_count": 25,
     "metadata": {},
     "output_type": "execute_result"
    },
    {
     "data": {
      "image/png": "[encoded data removed]",
      "text/plain": [
       "<Figure size 432x288 with 1 Axes>"
      ]
     },
     "metadata": {},
     "output_type": "display_data"
    }
   ],
   "source": [
    "sns.heatmap(train.isnull(), cbar=False)"
   ]
  },
  {
   "cell_type": "code",
   "execution_count": 26,
   "id": "344a97c5",
   "metadata": {
    "execution": {
     "iopub.execute_input": "2021-12-02T20:26:29.633200Z",
     "iopub.status.busy": "2021-12-02T20:26:29.632437Z",
     "iopub.status.idle": "2021-12-02T20:26:30.013920Z",
     "shell.execute_reply": "2021-12-02T20:26:30.013273Z",
     "shell.execute_reply.started": "2021-12-02T20:24:48.770606Z"
    },
    "papermill": {
     "duration": 0.440048,
     "end_time": "2021-12-02T20:26:30.014081",
     "exception": false,
     "start_time": "2021-12-02T20:26:29.574033",
     "status": "completed"
    },
    "tags": []
   },
   "outputs": [
    {
     "data": {
      "text/plain": [
       "<AxesSubplot:>"
      ]
     },
     "execution_count": 26,
     "metadata": {},
     "output_type": "execute_result"
    },
    {
     "data": {
      "image/png": "[encoded data removed]",
      "text/plain": [
       "<Figure size 432x288 with 1 Axes>"
      ]
     },
     "metadata": {},
     "output_type": "display_data"
    }
   ],
   "source": [
    "sns.heatmap(test.isnull(), cbar=False)"
   ]
  },
  {
   "cell_type": "markdown",
   "id": "5f426721",
   "metadata": {
    "papermill": {
     "duration": 0.056751,
     "end_time": "2021-12-02T20:26:30.125763",
     "exception": false,
     "start_time": "2021-12-02T20:26:30.069012",
     "status": "completed"
    },
    "tags": []
   },
   "source": [
    "# Feature Splitting"
   ]
  },
  {
   "cell_type": "code",
   "execution_count": 27,
   "id": "052a325d",
   "metadata": {
    "execution": {
     "iopub.execute_input": "2021-12-02T20:26:30.239638Z",
     "iopub.status.busy": "2021-12-02T20:26:30.238945Z",
     "iopub.status.idle": "2021-12-02T20:26:30.241851Z",
     "shell.execute_reply": "2021-12-02T20:26:30.242490Z",
     "shell.execute_reply.started": "2021-12-02T20:24:49.142014Z"
    },
    "papermill": {
     "duration": 0.062179,
     "end_time": "2021-12-02T20:26:30.242666",
     "exception": false,
     "start_time": "2021-12-02T20:26:30.180487",
     "status": "completed"
    },
    "tags": []
   },
   "outputs": [],
   "source": [
    "#train['Name'].values"
   ]
  },
  {
   "cell_type": "code",
   "execution_count": 28,
   "id": "89fa20bd",
   "metadata": {
    "execution": {
     "iopub.execute_input": "2021-12-02T20:26:30.356970Z",
     "iopub.status.busy": "2021-12-02T20:26:30.356301Z",
     "iopub.status.idle": "2021-12-02T20:26:30.368263Z",
     "shell.execute_reply": "2021-12-02T20:26:30.368776Z",
     "shell.execute_reply.started": "2021-12-02T20:24:49.148667Z"
    },
    "papermill": {
     "duration": 0.070027,
     "end_time": "2021-12-02T20:26:30.368942",
     "exception": false,
     "start_time": "2021-12-02T20:26:30.298915",
     "status": "completed"
    },
    "tags": []
   },
   "outputs": [],
   "source": [
    "def extractNameComponents(df):  \n",
    "    \n",
    "    lastList = []\n",
    "    honorificList = []\n",
    "\n",
    "    for string in list(df['Name']):\n",
    "        \n",
    "        first_split = string.split(\", \")\n",
    "        lastList.append(first_split[0])\n",
    "        \n",
    "        second_split = first_split[1].split(\" \")\n",
    "        honorificList.append(second_split[0])\n",
    "\n",
    "       \n",
    "    return lastList,honorificList\n",
    "        \n",
    "lastList,honorificList = extractNameComponents(train)\n",
    "\n",
    "s_last = pd.Series(lastList, index=np.arange(891))\n",
    "train.insert(len(train.columns)-1, 'Last Name', s_last.values)\n",
    "\n",
    "s_honorific = pd.Series(honorificList, index=np.arange(891))\n",
    "train.insert(len(train.columns)-1, 'Honorific', s_honorific.values)     \n",
    "\n",
    "\n",
    "train = train.drop(['Name'],axis=1)"
   ]
  },
  {
   "cell_type": "code",
   "execution_count": 29,
   "id": "b15a0a49",
   "metadata": {
    "execution": {
     "iopub.execute_input": "2021-12-02T20:26:30.482018Z",
     "iopub.status.busy": "2021-12-02T20:26:30.481374Z",
     "iopub.status.idle": "2021-12-02T20:26:30.490398Z",
     "shell.execute_reply": "2021-12-02T20:26:30.490882Z",
     "shell.execute_reply.started": "2021-12-02T20:24:49.170775Z"
    },
    "papermill": {
     "duration": 0.067271,
     "end_time": "2021-12-02T20:26:30.491067",
     "exception": false,
     "start_time": "2021-12-02T20:26:30.423796",
     "status": "completed"
    },
    "tags": []
   },
   "outputs": [],
   "source": [
    "lastList,honorificList = extractNameComponents(test)\n",
    "\n",
    "s_last = pd.Series(lastList, index=np.arange(418))\n",
    "test.insert(len(test.columns)-1, 'Last Name', s_last.values)\n",
    "\n",
    "s_honorific = pd.Series(honorificList, index=np.arange(418))\n",
    "test.insert(len(test.columns)-1, 'Honorific', s_honorific.values)     \n",
    "\n",
    "test = test.drop(['Name'],axis=1)"
   ]
  },
  {
   "cell_type": "code",
   "execution_count": 30,
   "id": "f5417fba",
   "metadata": {
    "execution": {
     "iopub.execute_input": "2021-12-02T20:26:30.605230Z",
     "iopub.status.busy": "2021-12-02T20:26:30.604289Z",
     "iopub.status.idle": "2021-12-02T20:26:30.607182Z",
     "shell.execute_reply": "2021-12-02T20:26:30.606664Z",
     "shell.execute_reply.started": "2021-12-02T20:24:49.186125Z"
    },
    "papermill": {
     "duration": 0.061438,
     "end_time": "2021-12-02T20:26:30.607330",
     "exception": false,
     "start_time": "2021-12-02T20:26:30.545892",
     "status": "completed"
    },
    "tags": []
   },
   "outputs": [],
   "source": [
    "#train['Last Name'].value_counts().to_dict()\n",
    "#train['Honorific'].value_counts()"
   ]
  },
  {
   "cell_type": "code",
   "execution_count": 31,
   "id": "97c5e2de",
   "metadata": {
    "execution": {
     "iopub.execute_input": "2021-12-02T20:26:30.720579Z",
     "iopub.status.busy": "2021-12-02T20:26:30.719919Z",
     "iopub.status.idle": "2021-12-02T20:26:30.721745Z",
     "shell.execute_reply": "2021-12-02T20:26:30.722174Z",
     "shell.execute_reply.started": "2021-12-02T20:24:49.201533Z"
    },
    "papermill": {
     "duration": 0.060437,
     "end_time": "2021-12-02T20:26:30.722353",
     "exception": false,
     "start_time": "2021-12-02T20:26:30.661916",
     "status": "completed"
    },
    "tags": []
   },
   "outputs": [],
   "source": [
    "#test['Last Name'].value_counts().to_dict()\n",
    "#test['Honorific'].value_counts()"
   ]
  },
  {
   "cell_type": "code",
   "execution_count": 32,
   "id": "8fe497fa",
   "metadata": {
    "execution": {
     "iopub.execute_input": "2021-12-02T20:26:30.838595Z",
     "iopub.status.busy": "2021-12-02T20:26:30.837920Z",
     "iopub.status.idle": "2021-12-02T20:26:31.278220Z",
     "shell.execute_reply": "2021-12-02T20:26:31.278766Z",
     "shell.execute_reply.started": "2021-12-02T20:24:49.215134Z"
    },
    "papermill": {
     "duration": 0.501876,
     "end_time": "2021-12-02T20:26:31.279003",
     "exception": false,
     "start_time": "2021-12-02T20:26:30.777127",
     "status": "completed"
    },
    "tags": []
   },
   "outputs": [
    {
     "data": {
      "image/png": "[encoded data removed]",
      "text/plain": [
       "<Figure size 1080x576 with 1 Axes>"
      ]
     },
     "metadata": {},
     "output_type": "display_data"
    }
   ],
   "source": [
    "#sns.set(rc={'figure.figsize':(15,5)})\n",
    "#sns.histplot(data=train, x=\"Honorific\")\n",
    "\n",
    "fig, ax = plt.subplots(figsize=(15,8))\n",
    "\n",
    "for a in [train, train[train['Survived'] == 1]]:\n",
    "    sns.histplot(a, x = 'Honorific', ax=ax, kde=False)\n"
   ]
  },
  {
   "cell_type": "markdown",
   "id": "9b9070b0",
   "metadata": {
    "papermill": {
     "duration": 0.064243,
     "end_time": "2021-12-02T20:26:31.416625",
     "exception": false,
     "start_time": "2021-12-02T20:26:31.352382",
     "status": "completed"
    },
    "tags": []
   },
   "source": [
    "# Feature Scaling"
   ]
  },
  {
   "cell_type": "code",
   "execution_count": 33,
   "id": "77db85ca",
   "metadata": {
    "execution": {
     "iopub.execute_input": "2021-12-02T20:26:31.531096Z",
     "iopub.status.busy": "2021-12-02T20:26:31.530420Z",
     "iopub.status.idle": "2021-12-02T20:26:31.559114Z",
     "shell.execute_reply": "2021-12-02T20:26:31.558629Z",
     "shell.execute_reply.started": "2021-12-02T20:24:49.668288Z"
    },
    "papermill": {
     "duration": 0.087223,
     "end_time": "2021-12-02T20:26:31.559252",
     "exception": false,
     "start_time": "2021-12-02T20:26:31.472029",
     "status": "completed"
    },
    "tags": []
   },
   "outputs": [
    {
     "data": {
      "text/html": [
       "<div>\n",
       "<style scoped>\n",
       "    .dataframe tbody tr th:only-of-type {\n",
       "        vertical-align: middle;\n",
       "    }\n",
       "\n",
       "    .dataframe tbody tr th {\n",
       "        vertical-align: top;\n",
       "    }\n",
       "\n",
       "    .dataframe thead th {\n",
       "        text-align: right;\n",
       "    }\n",
       "</style>\n",
       "<table border=\"1\" class=\"dataframe\">\n",
       "  <thead>\n",
       "    <tr style=\"text-align: right;\">\n",
       "      <th></th>\n",
       "      <th>PassengerId</th>\n",
       "      <th>Pclass</th>\n",
       "      <th>Sex</th>\n",
       "      <th>Age</th>\n",
       "      <th>SibSp</th>\n",
       "      <th>Parch</th>\n",
       "      <th>Ticket</th>\n",
       "      <th>Fare</th>\n",
       "      <th>Cabin</th>\n",
       "      <th>Last Name</th>\n",
       "      <th>Honorific</th>\n",
       "      <th>Embarked</th>\n",
       "    </tr>\n",
       "  </thead>\n",
       "  <tbody>\n",
       "    <tr>\n",
       "      <th>0</th>\n",
       "      <td>892</td>\n",
       "      <td>3</td>\n",
       "      <td>male</td>\n",
       "      <td>0.369449</td>\n",
       "      <td>0</td>\n",
       "      <td>0</td>\n",
       "      <td>330911</td>\n",
       "      <td>-0.490783</td>\n",
       "      <td>B57 B59 B63 B66</td>\n",
       "      <td>Kelly</td>\n",
       "      <td>Mr.</td>\n",
       "      <td>Q</td>\n",
       "    </tr>\n",
       "    <tr>\n",
       "      <th>1</th>\n",
       "      <td>893</td>\n",
       "      <td>3</td>\n",
       "      <td>female</td>\n",
       "      <td>1.331378</td>\n",
       "      <td>1</td>\n",
       "      <td>0</td>\n",
       "      <td>363272</td>\n",
       "      <td>-0.507479</td>\n",
       "      <td>B57 B59 B63 B66</td>\n",
       "      <td>Wilkes</td>\n",
       "      <td>Mrs.</td>\n",
       "      <td>S</td>\n",
       "    </tr>\n",
       "    <tr>\n",
       "      <th>2</th>\n",
       "      <td>894</td>\n",
       "      <td>2</td>\n",
       "      <td>male</td>\n",
       "      <td>2.485693</td>\n",
       "      <td>0</td>\n",
       "      <td>0</td>\n",
       "      <td>240276</td>\n",
       "      <td>-0.453367</td>\n",
       "      <td>B57 B59 B63 B66</td>\n",
       "      <td>Myles</td>\n",
       "      <td>Mr.</td>\n",
       "      <td>Q</td>\n",
       "    </tr>\n",
       "    <tr>\n",
       "      <th>3</th>\n",
       "      <td>895</td>\n",
       "      <td>3</td>\n",
       "      <td>male</td>\n",
       "      <td>-0.207709</td>\n",
       "      <td>0</td>\n",
       "      <td>0</td>\n",
       "      <td>315154</td>\n",
       "      <td>-0.474005</td>\n",
       "      <td>B57 B59 B63 B66</td>\n",
       "      <td>Wirz</td>\n",
       "      <td>Mr.</td>\n",
       "      <td>S</td>\n",
       "    </tr>\n",
       "    <tr>\n",
       "      <th>4</th>\n",
       "      <td>896</td>\n",
       "      <td>3</td>\n",
       "      <td>female</td>\n",
       "      <td>-0.592481</td>\n",
       "      <td>1</td>\n",
       "      <td>1</td>\n",
       "      <td>3101298</td>\n",
       "      <td>-0.401017</td>\n",
       "      <td>B57 B59 B63 B66</td>\n",
       "      <td>Hirvonen</td>\n",
       "      <td>Mrs.</td>\n",
       "      <td>S</td>\n",
       "    </tr>\n",
       "    <tr>\n",
       "      <th>...</th>\n",
       "      <td>...</td>\n",
       "      <td>...</td>\n",
       "      <td>...</td>\n",
       "      <td>...</td>\n",
       "      <td>...</td>\n",
       "      <td>...</td>\n",
       "      <td>...</td>\n",
       "      <td>...</td>\n",
       "      <td>...</td>\n",
       "      <td>...</td>\n",
       "      <td>...</td>\n",
       "      <td>...</td>\n",
       "    </tr>\n",
       "    <tr>\n",
       "      <th>413</th>\n",
       "      <td>1305</td>\n",
       "      <td>3</td>\n",
       "      <td>male</td>\n",
       "      <td>0.044131</td>\n",
       "      <td>0</td>\n",
       "      <td>0</td>\n",
       "      <td>A.5. 3236</td>\n",
       "      <td>-0.486337</td>\n",
       "      <td>B57 B59 B63 B66</td>\n",
       "      <td>Spector</td>\n",
       "      <td>Mr.</td>\n",
       "      <td>S</td>\n",
       "    </tr>\n",
       "    <tr>\n",
       "      <th>414</th>\n",
       "      <td>1306</td>\n",
       "      <td>1</td>\n",
       "      <td>female</td>\n",
       "      <td>0.715743</td>\n",
       "      <td>0</td>\n",
       "      <td>0</td>\n",
       "      <td>PC 17758</td>\n",
       "      <td>1.544246</td>\n",
       "      <td>C105</td>\n",
       "      <td>Oliva y Ocana</td>\n",
       "      <td>Dona.</td>\n",
       "      <td>C</td>\n",
       "    </tr>\n",
       "    <tr>\n",
       "      <th>415</th>\n",
       "      <td>1307</td>\n",
       "      <td>3</td>\n",
       "      <td>male</td>\n",
       "      <td>0.677266</td>\n",
       "      <td>0</td>\n",
       "      <td>0</td>\n",
       "      <td>SOTON/O.Q. 3101262</td>\n",
       "      <td>-0.502445</td>\n",
       "      <td>B57 B59 B63 B66</td>\n",
       "      <td>Saether</td>\n",
       "      <td>Mr.</td>\n",
       "      <td>S</td>\n",
       "    </tr>\n",
       "    <tr>\n",
       "      <th>416</th>\n",
       "      <td>1308</td>\n",
       "      <td>3</td>\n",
       "      <td>male</td>\n",
       "      <td>0.044131</td>\n",
       "      <td>0</td>\n",
       "      <td>0</td>\n",
       "      <td>359309</td>\n",
       "      <td>-0.486337</td>\n",
       "      <td>B57 B59 B63 B66</td>\n",
       "      <td>Ware</td>\n",
       "      <td>Mr.</td>\n",
       "      <td>S</td>\n",
       "    </tr>\n",
       "    <tr>\n",
       "      <th>417</th>\n",
       "      <td>1309</td>\n",
       "      <td>3</td>\n",
       "      <td>male</td>\n",
       "      <td>0.044131</td>\n",
       "      <td>1</td>\n",
       "      <td>1</td>\n",
       "      <td>2668</td>\n",
       "      <td>-0.198244</td>\n",
       "      <td>B57 B59 B63 B66</td>\n",
       "      <td>Peter</td>\n",
       "      <td>Master.</td>\n",
       "      <td>C</td>\n",
       "    </tr>\n",
       "  </tbody>\n",
       "</table>\n",
       "<p>418 rows × 12 columns</p>\n",
       "</div>"
      ],
      "text/plain": [
       "     PassengerId  Pclass     Sex       Age  SibSp  Parch              Ticket  \\\n",
       "0            892       3    male  0.369449      0      0              330911   \n",
       "1            893       3  female  1.331378      1      0              363272   \n",
       "2            894       2    male  2.485693      0      0              240276   \n",
       "3            895       3    male -0.207709      0      0              315154   \n",
       "4            896       3  female -0.592481      1      1             3101298   \n",
       "..           ...     ...     ...       ...    ...    ...                 ...   \n",
       "413         1305       3    male  0.044131      0      0           A.5. 3236   \n",
       "414         1306       1  female  0.715743      0      0            PC 17758   \n",
       "415         1307       3    male  0.677266      0      0  SOTON/O.Q. 3101262   \n",
       "416         1308       3    male  0.044131      0      0              359309   \n",
       "417         1309       3    male  0.044131      1      1                2668   \n",
       "\n",
       "         Fare            Cabin      Last Name Honorific Embarked  \n",
       "0   -0.490783  B57 B59 B63 B66          Kelly       Mr.        Q  \n",
       "1   -0.507479  B57 B59 B63 B66         Wilkes      Mrs.        S  \n",
       "2   -0.453367  B57 B59 B63 B66          Myles       Mr.        Q  \n",
       "3   -0.474005  B57 B59 B63 B66           Wirz       Mr.        S  \n",
       "4   -0.401017  B57 B59 B63 B66       Hirvonen      Mrs.        S  \n",
       "..        ...              ...            ...       ...      ...  \n",
       "413 -0.486337  B57 B59 B63 B66        Spector       Mr.        S  \n",
       "414  1.544246             C105  Oliva y Ocana     Dona.        C  \n",
       "415 -0.502445  B57 B59 B63 B66        Saether       Mr.        S  \n",
       "416 -0.486337  B57 B59 B63 B66           Ware       Mr.        S  \n",
       "417 -0.198244  B57 B59 B63 B66          Peter   Master.        C  \n",
       "\n",
       "[418 rows x 12 columns]"
      ]
     },
     "execution_count": 33,
     "metadata": {},
     "output_type": "execute_result"
    }
   ],
   "source": [
    "from sklearn.preprocessing import StandardScaler\n",
    "\n",
    "scaler = StandardScaler()  \n",
    "\n",
    "train[['Age','Fare']] = pd.DataFrame(scaler.fit_transform(train[['Age','Fare']]))\n",
    "test[['Age','Fare']] = pd.DataFrame(scaler.transform(test[['Age','Fare']]))\n",
    "test"
   ]
  },
  {
   "cell_type": "markdown",
   "id": "a8362757",
   "metadata": {
    "papermill": {
     "duration": 0.055992,
     "end_time": "2021-12-02T20:26:31.671980",
     "exception": false,
     "start_time": "2021-12-02T20:26:31.615988",
     "status": "completed"
    },
    "tags": []
   },
   "source": [
    "# Categorical Encoding"
   ]
  },
  {
   "cell_type": "code",
   "execution_count": 34,
   "id": "8560e114",
   "metadata": {
    "execution": {
     "iopub.execute_input": "2021-12-02T20:26:31.791578Z",
     "iopub.status.busy": "2021-12-02T20:26:31.790935Z",
     "iopub.status.idle": "2021-12-02T20:26:31.792766Z",
     "shell.execute_reply": "2021-12-02T20:26:31.793267Z",
     "shell.execute_reply.started": "2021-12-02T20:24:49.710004Z"
    },
    "papermill": {
     "duration": 0.064784,
     "end_time": "2021-12-02T20:26:31.793445",
     "exception": false,
     "start_time": "2021-12-02T20:26:31.728661",
     "status": "completed"
    },
    "tags": []
   },
   "outputs": [],
   "source": [
    "y = train['Survived']\n",
    "train = train.drop('Survived',axis=1)\n",
    "\n",
    "sub2 = test['PassengerId']"
   ]
  },
  {
   "cell_type": "code",
   "execution_count": 35,
   "id": "74a3d5a1",
   "metadata": {
    "execution": {
     "iopub.execute_input": "2021-12-02T20:26:31.913231Z",
     "iopub.status.busy": "2021-12-02T20:26:31.912602Z",
     "iopub.status.idle": "2021-12-02T20:26:31.921849Z",
     "shell.execute_reply": "2021-12-02T20:26:31.922303Z",
     "shell.execute_reply.started": "2021-12-02T20:24:49.722065Z"
    },
    "papermill": {
     "duration": 0.070268,
     "end_time": "2021-12-02T20:26:31.922495",
     "exception": false,
     "start_time": "2021-12-02T20:26:31.852227",
     "status": "completed"
    },
    "tags": []
   },
   "outputs": [],
   "source": [
    "overall = pd.concat([train.assign(ind=\"train\"),test.assign(ind=\"test\")])\n",
    "overall.reset_index(inplace=True, drop=True)\n"
   ]
  },
  {
   "cell_type": "code",
   "execution_count": 36,
   "id": "8bc74129",
   "metadata": {
    "execution": {
     "iopub.execute_input": "2021-12-02T20:26:32.039801Z",
     "iopub.status.busy": "2021-12-02T20:26:32.039127Z",
     "iopub.status.idle": "2021-12-02T20:26:32.249615Z",
     "shell.execute_reply": "2021-12-02T20:26:32.250131Z",
     "shell.execute_reply.started": "2021-12-02T20:24:49.737004Z"
    },
    "papermill": {
     "duration": 0.271207,
     "end_time": "2021-12-02T20:26:32.250295",
     "exception": false,
     "start_time": "2021-12-02T20:26:31.979088",
     "status": "completed"
    },
    "tags": []
   },
   "outputs": [
    {
     "data": {
      "text/html": [
       "<div>\n",
       "<style scoped>\n",
       "    .dataframe tbody tr th:only-of-type {\n",
       "        vertical-align: middle;\n",
       "    }\n",
       "\n",
       "    .dataframe tbody tr th {\n",
       "        vertical-align: top;\n",
       "    }\n",
       "\n",
       "    .dataframe thead th {\n",
       "        text-align: right;\n",
       "    }\n",
       "</style>\n",
       "<table border=\"1\" class=\"dataframe\">\n",
       "  <thead>\n",
       "    <tr style=\"text-align: right;\">\n",
       "      <th></th>\n",
       "      <th>PassengerId</th>\n",
       "      <th>Pclass</th>\n",
       "      <th>Age</th>\n",
       "      <th>SibSp</th>\n",
       "      <th>Parch</th>\n",
       "      <th>Fare</th>\n",
       "      <th>ind</th>\n",
       "      <th>Sex_female</th>\n",
       "      <th>Sex_male</th>\n",
       "      <th>Ticket_110152</th>\n",
       "      <th>...</th>\n",
       "      <th>Honorific_Mme.</th>\n",
       "      <th>Honorific_Mr.</th>\n",
       "      <th>Honorific_Mrs.</th>\n",
       "      <th>Honorific_Ms.</th>\n",
       "      <th>Honorific_Rev.</th>\n",
       "      <th>Honorific_Sir.</th>\n",
       "      <th>Honorific_the</th>\n",
       "      <th>Embarked_C</th>\n",
       "      <th>Embarked_Q</th>\n",
       "      <th>Embarked_S</th>\n",
       "    </tr>\n",
       "  </thead>\n",
       "  <tbody>\n",
       "    <tr>\n",
       "      <th>0</th>\n",
       "      <td>1</td>\n",
       "      <td>3</td>\n",
       "      <td>-0.592481</td>\n",
       "      <td>1</td>\n",
       "      <td>0</td>\n",
       "      <td>-0.502445</td>\n",
       "      <td>train</td>\n",
       "      <td>0.0</td>\n",
       "      <td>1.0</td>\n",
       "      <td>0.0</td>\n",
       "      <td>...</td>\n",
       "      <td>0.0</td>\n",
       "      <td>1.0</td>\n",
       "      <td>0.0</td>\n",
       "      <td>0.0</td>\n",
       "      <td>0.0</td>\n",
       "      <td>0.0</td>\n",
       "      <td>0.0</td>\n",
       "      <td>0.0</td>\n",
       "      <td>0.0</td>\n",
       "      <td>1.0</td>\n",
       "    </tr>\n",
       "    <tr>\n",
       "      <th>1</th>\n",
       "      <td>2</td>\n",
       "      <td>1</td>\n",
       "      <td>0.638789</td>\n",
       "      <td>1</td>\n",
       "      <td>0</td>\n",
       "      <td>0.786845</td>\n",
       "      <td>train</td>\n",
       "      <td>1.0</td>\n",
       "      <td>0.0</td>\n",
       "      <td>0.0</td>\n",
       "      <td>...</td>\n",
       "      <td>0.0</td>\n",
       "      <td>0.0</td>\n",
       "      <td>1.0</td>\n",
       "      <td>0.0</td>\n",
       "      <td>0.0</td>\n",
       "      <td>0.0</td>\n",
       "      <td>0.0</td>\n",
       "      <td>1.0</td>\n",
       "      <td>0.0</td>\n",
       "      <td>0.0</td>\n",
       "    </tr>\n",
       "    <tr>\n",
       "      <th>2</th>\n",
       "      <td>3</td>\n",
       "      <td>3</td>\n",
       "      <td>-0.284663</td>\n",
       "      <td>0</td>\n",
       "      <td>0</td>\n",
       "      <td>-0.488854</td>\n",
       "      <td>train</td>\n",
       "      <td>1.0</td>\n",
       "      <td>0.0</td>\n",
       "      <td>0.0</td>\n",
       "      <td>...</td>\n",
       "      <td>0.0</td>\n",
       "      <td>0.0</td>\n",
       "      <td>0.0</td>\n",
       "      <td>0.0</td>\n",
       "      <td>0.0</td>\n",
       "      <td>0.0</td>\n",
       "      <td>0.0</td>\n",
       "      <td>0.0</td>\n",
       "      <td>0.0</td>\n",
       "      <td>1.0</td>\n",
       "    </tr>\n",
       "    <tr>\n",
       "      <th>3</th>\n",
       "      <td>4</td>\n",
       "      <td>1</td>\n",
       "      <td>0.407926</td>\n",
       "      <td>1</td>\n",
       "      <td>0</td>\n",
       "      <td>0.420730</td>\n",
       "      <td>train</td>\n",
       "      <td>1.0</td>\n",
       "      <td>0.0</td>\n",
       "      <td>0.0</td>\n",
       "      <td>...</td>\n",
       "      <td>0.0</td>\n",
       "      <td>0.0</td>\n",
       "      <td>1.0</td>\n",
       "      <td>0.0</td>\n",
       "      <td>0.0</td>\n",
       "      <td>0.0</td>\n",
       "      <td>0.0</td>\n",
       "      <td>0.0</td>\n",
       "      <td>0.0</td>\n",
       "      <td>1.0</td>\n",
       "    </tr>\n",
       "    <tr>\n",
       "      <th>4</th>\n",
       "      <td>5</td>\n",
       "      <td>3</td>\n",
       "      <td>0.407926</td>\n",
       "      <td>0</td>\n",
       "      <td>0</td>\n",
       "      <td>-0.486337</td>\n",
       "      <td>train</td>\n",
       "      <td>0.0</td>\n",
       "      <td>1.0</td>\n",
       "      <td>0.0</td>\n",
       "      <td>...</td>\n",
       "      <td>0.0</td>\n",
       "      <td>1.0</td>\n",
       "      <td>0.0</td>\n",
       "      <td>0.0</td>\n",
       "      <td>0.0</td>\n",
       "      <td>0.0</td>\n",
       "      <td>0.0</td>\n",
       "      <td>0.0</td>\n",
       "      <td>0.0</td>\n",
       "      <td>1.0</td>\n",
       "    </tr>\n",
       "    <tr>\n",
       "      <th>...</th>\n",
       "      <td>...</td>\n",
       "      <td>...</td>\n",
       "      <td>...</td>\n",
       "      <td>...</td>\n",
       "      <td>...</td>\n",
       "      <td>...</td>\n",
       "      <td>...</td>\n",
       "      <td>...</td>\n",
       "      <td>...</td>\n",
       "      <td>...</td>\n",
       "      <td>...</td>\n",
       "      <td>...</td>\n",
       "      <td>...</td>\n",
       "      <td>...</td>\n",
       "      <td>...</td>\n",
       "      <td>...</td>\n",
       "      <td>...</td>\n",
       "      <td>...</td>\n",
       "      <td>...</td>\n",
       "      <td>...</td>\n",
       "      <td>...</td>\n",
       "    </tr>\n",
       "    <tr>\n",
       "      <th>1304</th>\n",
       "      <td>1305</td>\n",
       "      <td>3</td>\n",
       "      <td>0.044131</td>\n",
       "      <td>0</td>\n",
       "      <td>0</td>\n",
       "      <td>-0.486337</td>\n",
       "      <td>test</td>\n",
       "      <td>0.0</td>\n",
       "      <td>1.0</td>\n",
       "      <td>0.0</td>\n",
       "      <td>...</td>\n",
       "      <td>0.0</td>\n",
       "      <td>1.0</td>\n",
       "      <td>0.0</td>\n",
       "      <td>0.0</td>\n",
       "      <td>0.0</td>\n",
       "      <td>0.0</td>\n",
       "      <td>0.0</td>\n",
       "      <td>0.0</td>\n",
       "      <td>0.0</td>\n",
       "      <td>1.0</td>\n",
       "    </tr>\n",
       "    <tr>\n",
       "      <th>1305</th>\n",
       "      <td>1306</td>\n",
       "      <td>1</td>\n",
       "      <td>0.715743</td>\n",
       "      <td>0</td>\n",
       "      <td>0</td>\n",
       "      <td>1.544246</td>\n",
       "      <td>test</td>\n",
       "      <td>1.0</td>\n",
       "      <td>0.0</td>\n",
       "      <td>0.0</td>\n",
       "      <td>...</td>\n",
       "      <td>0.0</td>\n",
       "      <td>0.0</td>\n",
       "      <td>0.0</td>\n",
       "      <td>0.0</td>\n",
       "      <td>0.0</td>\n",
       "      <td>0.0</td>\n",
       "      <td>0.0</td>\n",
       "      <td>1.0</td>\n",
       "      <td>0.0</td>\n",
       "      <td>0.0</td>\n",
       "    </tr>\n",
       "    <tr>\n",
       "      <th>1306</th>\n",
       "      <td>1307</td>\n",
       "      <td>3</td>\n",
       "      <td>0.677266</td>\n",
       "      <td>0</td>\n",
       "      <td>0</td>\n",
       "      <td>-0.502445</td>\n",
       "      <td>test</td>\n",
       "      <td>0.0</td>\n",
       "      <td>1.0</td>\n",
       "      <td>0.0</td>\n",
       "      <td>...</td>\n",
       "      <td>0.0</td>\n",
       "      <td>1.0</td>\n",
       "      <td>0.0</td>\n",
       "      <td>0.0</td>\n",
       "      <td>0.0</td>\n",
       "      <td>0.0</td>\n",
       "      <td>0.0</td>\n",
       "      <td>0.0</td>\n",
       "      <td>0.0</td>\n",
       "      <td>1.0</td>\n",
       "    </tr>\n",
       "    <tr>\n",
       "      <th>1307</th>\n",
       "      <td>1308</td>\n",
       "      <td>3</td>\n",
       "      <td>0.044131</td>\n",
       "      <td>0</td>\n",
       "      <td>0</td>\n",
       "      <td>-0.486337</td>\n",
       "      <td>test</td>\n",
       "      <td>0.0</td>\n",
       "      <td>1.0</td>\n",
       "      <td>0.0</td>\n",
       "      <td>...</td>\n",
       "      <td>0.0</td>\n",
       "      <td>1.0</td>\n",
       "      <td>0.0</td>\n",
       "      <td>0.0</td>\n",
       "      <td>0.0</td>\n",
       "      <td>0.0</td>\n",
       "      <td>0.0</td>\n",
       "      <td>0.0</td>\n",
       "      <td>0.0</td>\n",
       "      <td>1.0</td>\n",
       "    </tr>\n",
       "    <tr>\n",
       "      <th>1308</th>\n",
       "      <td>1309</td>\n",
       "      <td>3</td>\n",
       "      <td>0.044131</td>\n",
       "      <td>1</td>\n",
       "      <td>1</td>\n",
       "      <td>-0.198244</td>\n",
       "      <td>test</td>\n",
       "      <td>0.0</td>\n",
       "      <td>1.0</td>\n",
       "      <td>0.0</td>\n",
       "      <td>...</td>\n",
       "      <td>0.0</td>\n",
       "      <td>0.0</td>\n",
       "      <td>0.0</td>\n",
       "      <td>0.0</td>\n",
       "      <td>0.0</td>\n",
       "      <td>0.0</td>\n",
       "      <td>0.0</td>\n",
       "      <td>1.0</td>\n",
       "      <td>0.0</td>\n",
       "      <td>0.0</td>\n",
       "    </tr>\n",
       "  </tbody>\n",
       "</table>\n",
       "<p>1309 rows × 2020 columns</p>\n",
       "</div>"
      ],
      "text/plain": [
       "      PassengerId  Pclass       Age  SibSp  Parch      Fare    ind  \\\n",
       "0               1       3 -0.592481      1      0 -0.502445  train   \n",
       "1               2       1  0.638789      1      0  0.786845  train   \n",
       "2               3       3 -0.284663      0      0 -0.488854  train   \n",
       "3               4       1  0.407926      1      0  0.420730  train   \n",
       "4               5       3  0.407926      0      0 -0.486337  train   \n",
       "...           ...     ...       ...    ...    ...       ...    ...   \n",
       "1304         1305       3  0.044131      0      0 -0.486337   test   \n",
       "1305         1306       1  0.715743      0      0  1.544246   test   \n",
       "1306         1307       3  0.677266      0      0 -0.502445   test   \n",
       "1307         1308       3  0.044131      0      0 -0.486337   test   \n",
       "1308         1309       3  0.044131      1      1 -0.198244   test   \n",
       "\n",
       "      Sex_female  Sex_male  Ticket_110152  ...  Honorific_Mme.  Honorific_Mr.  \\\n",
       "0            0.0       1.0            0.0  ...             0.0            1.0   \n",
       "1            1.0       0.0            0.0  ...             0.0            0.0   \n",
       "2            1.0       0.0            0.0  ...             0.0            0.0   \n",
       "3            1.0       0.0            0.0  ...             0.0            0.0   \n",
       "4            0.0       1.0            0.0  ...             0.0            1.0   \n",
       "...          ...       ...            ...  ...             ...            ...   \n",
       "1304         0.0       1.0            0.0  ...             0.0            1.0   \n",
       "1305         1.0       0.0            0.0  ...             0.0            0.0   \n",
       "1306         0.0       1.0            0.0  ...             0.0            1.0   \n",
       "1307         0.0       1.0            0.0  ...             0.0            1.0   \n",
       "1308         0.0       1.0            0.0  ...             0.0            0.0   \n",
       "\n",
       "      Honorific_Mrs.  Honorific_Ms.  Honorific_Rev.  Honorific_Sir.  \\\n",
       "0                0.0            0.0             0.0             0.0   \n",
       "1                1.0            0.0             0.0             0.0   \n",
       "2                0.0            0.0             0.0             0.0   \n",
       "3                1.0            0.0             0.0             0.0   \n",
       "4                0.0            0.0             0.0             0.0   \n",
       "...              ...            ...             ...             ...   \n",
       "1304             0.0            0.0             0.0             0.0   \n",
       "1305             0.0            0.0             0.0             0.0   \n",
       "1306             0.0            0.0             0.0             0.0   \n",
       "1307             0.0            0.0             0.0             0.0   \n",
       "1308             0.0            0.0             0.0             0.0   \n",
       "\n",
       "      Honorific_the  Embarked_C  Embarked_Q  Embarked_S  \n",
       "0               0.0         0.0         0.0         1.0  \n",
       "1               0.0         1.0         0.0         0.0  \n",
       "2               0.0         0.0         0.0         1.0  \n",
       "3               0.0         0.0         0.0         1.0  \n",
       "4               0.0         0.0         0.0         1.0  \n",
       "...             ...         ...         ...         ...  \n",
       "1304            0.0         0.0         0.0         1.0  \n",
       "1305            0.0         1.0         0.0         0.0  \n",
       "1306            0.0         0.0         0.0         1.0  \n",
       "1307            0.0         0.0         0.0         1.0  \n",
       "1308            0.0         1.0         0.0         0.0  \n",
       "\n",
       "[1309 rows x 2020 columns]"
      ]
     },
     "execution_count": 36,
     "metadata": {},
     "output_type": "execute_result"
    }
   ],
   "source": [
    "from sklearn.preprocessing import OneHotEncoder\n",
    "\n",
    "# creating instance of one-hot-encoder\n",
    "enc = OneHotEncoder(handle_unknown='ignore')\n",
    "\n",
    "to_encode = ['Sex','Ticket','Cabin','Last Name','Honorific','Embarked']\n",
    "\n",
    "def encode_and_join(df,to_encode,enc):\n",
    "    \n",
    "    for feature in to_encode:        \n",
    "\n",
    "        enc.fit(df[feature].values.reshape(-1,1))\n",
    "        new = pd.DataFrame(enc.transform(df[feature].values.reshape(-1,1)).toarray())\n",
    "        new.columns = enc.get_feature_names([feature])\n",
    "        df = pd.concat([df,new],axis=1)\n",
    "        df.drop(feature, inplace=True, axis=1)\n",
    "        \n",
    "    return df\n",
    "\n",
    "        \n",
    "overall = encode_and_join(overall,to_encode,enc)\n",
    "\n",
    "overall"
   ]
  },
  {
   "cell_type": "markdown",
   "id": "e83a1ea4",
   "metadata": {
    "papermill": {
     "duration": 0.057847,
     "end_time": "2021-12-02T20:26:32.365531",
     "exception": false,
     "start_time": "2021-12-02T20:26:32.307684",
     "status": "completed"
    },
    "tags": []
   },
   "source": [
    "# Model Building"
   ]
  },
  {
   "cell_type": "code",
   "execution_count": 37,
   "id": "13f3d5e3",
   "metadata": {
    "execution": {
     "iopub.execute_input": "2021-12-02T20:26:32.483865Z",
     "iopub.status.busy": "2021-12-02T20:26:32.483176Z",
     "iopub.status.idle": "2021-12-02T20:26:32.546092Z",
     "shell.execute_reply": "2021-12-02T20:26:32.546597Z",
     "shell.execute_reply.started": "2021-12-02T20:24:49.956743Z"
    },
    "papermill": {
     "duration": 0.123342,
     "end_time": "2021-12-02T20:26:32.546764",
     "exception": false,
     "start_time": "2021-12-02T20:26:32.423422",
     "status": "completed"
    },
    "tags": []
   },
   "outputs": [
    {
     "data": {
      "text/html": [
       "<div>\n",
       "<style scoped>\n",
       "    .dataframe tbody tr th:only-of-type {\n",
       "        vertical-align: middle;\n",
       "    }\n",
       "\n",
       "    .dataframe tbody tr th {\n",
       "        vertical-align: top;\n",
       "    }\n",
       "\n",
       "    .dataframe thead th {\n",
       "        text-align: right;\n",
       "    }\n",
       "</style>\n",
       "<table border=\"1\" class=\"dataframe\">\n",
       "  <thead>\n",
       "    <tr style=\"text-align: right;\">\n",
       "      <th></th>\n",
       "      <th>PassengerId</th>\n",
       "      <th>Pclass</th>\n",
       "      <th>Age</th>\n",
       "      <th>SibSp</th>\n",
       "      <th>Parch</th>\n",
       "      <th>Fare</th>\n",
       "      <th>Sex_female</th>\n",
       "      <th>Sex_male</th>\n",
       "      <th>Ticket_110152</th>\n",
       "      <th>Ticket_110413</th>\n",
       "      <th>...</th>\n",
       "      <th>Honorific_Mme.</th>\n",
       "      <th>Honorific_Mr.</th>\n",
       "      <th>Honorific_Mrs.</th>\n",
       "      <th>Honorific_Ms.</th>\n",
       "      <th>Honorific_Rev.</th>\n",
       "      <th>Honorific_Sir.</th>\n",
       "      <th>Honorific_the</th>\n",
       "      <th>Embarked_C</th>\n",
       "      <th>Embarked_Q</th>\n",
       "      <th>Embarked_S</th>\n",
       "    </tr>\n",
       "  </thead>\n",
       "  <tbody>\n",
       "    <tr>\n",
       "      <th>891</th>\n",
       "      <td>892</td>\n",
       "      <td>3</td>\n",
       "      <td>0.369449</td>\n",
       "      <td>0</td>\n",
       "      <td>0</td>\n",
       "      <td>-0.490783</td>\n",
       "      <td>0.0</td>\n",
       "      <td>1.0</td>\n",
       "      <td>0.0</td>\n",
       "      <td>0.0</td>\n",
       "      <td>...</td>\n",
       "      <td>0.0</td>\n",
       "      <td>1.0</td>\n",
       "      <td>0.0</td>\n",
       "      <td>0.0</td>\n",
       "      <td>0.0</td>\n",
       "      <td>0.0</td>\n",
       "      <td>0.0</td>\n",
       "      <td>0.0</td>\n",
       "      <td>1.0</td>\n",
       "      <td>0.0</td>\n",
       "    </tr>\n",
       "    <tr>\n",
       "      <th>892</th>\n",
       "      <td>893</td>\n",
       "      <td>3</td>\n",
       "      <td>1.331378</td>\n",
       "      <td>1</td>\n",
       "      <td>0</td>\n",
       "      <td>-0.507479</td>\n",
       "      <td>1.0</td>\n",
       "      <td>0.0</td>\n",
       "      <td>0.0</td>\n",
       "      <td>0.0</td>\n",
       "      <td>...</td>\n",
       "      <td>0.0</td>\n",
       "      <td>0.0</td>\n",
       "      <td>1.0</td>\n",
       "      <td>0.0</td>\n",
       "      <td>0.0</td>\n",
       "      <td>0.0</td>\n",
       "      <td>0.0</td>\n",
       "      <td>0.0</td>\n",
       "      <td>0.0</td>\n",
       "      <td>1.0</td>\n",
       "    </tr>\n",
       "    <tr>\n",
       "      <th>893</th>\n",
       "      <td>894</td>\n",
       "      <td>2</td>\n",
       "      <td>2.485693</td>\n",
       "      <td>0</td>\n",
       "      <td>0</td>\n",
       "      <td>-0.453367</td>\n",
       "      <td>0.0</td>\n",
       "      <td>1.0</td>\n",
       "      <td>0.0</td>\n",
       "      <td>0.0</td>\n",
       "      <td>...</td>\n",
       "      <td>0.0</td>\n",
       "      <td>1.0</td>\n",
       "      <td>0.0</td>\n",
       "      <td>0.0</td>\n",
       "      <td>0.0</td>\n",
       "      <td>0.0</td>\n",
       "      <td>0.0</td>\n",
       "      <td>0.0</td>\n",
       "      <td>1.0</td>\n",
       "      <td>0.0</td>\n",
       "    </tr>\n",
       "    <tr>\n",
       "      <th>894</th>\n",
       "      <td>895</td>\n",
       "      <td>3</td>\n",
       "      <td>-0.207709</td>\n",
       "      <td>0</td>\n",
       "      <td>0</td>\n",
       "      <td>-0.474005</td>\n",
       "      <td>0.0</td>\n",
       "      <td>1.0</td>\n",
       "      <td>0.0</td>\n",
       "      <td>0.0</td>\n",
       "      <td>...</td>\n",
       "      <td>0.0</td>\n",
       "      <td>1.0</td>\n",
       "      <td>0.0</td>\n",
       "      <td>0.0</td>\n",
       "      <td>0.0</td>\n",
       "      <td>0.0</td>\n",
       "      <td>0.0</td>\n",
       "      <td>0.0</td>\n",
       "      <td>0.0</td>\n",
       "      <td>1.0</td>\n",
       "    </tr>\n",
       "    <tr>\n",
       "      <th>895</th>\n",
       "      <td>896</td>\n",
       "      <td>3</td>\n",
       "      <td>-0.592481</td>\n",
       "      <td>1</td>\n",
       "      <td>1</td>\n",
       "      <td>-0.401017</td>\n",
       "      <td>1.0</td>\n",
       "      <td>0.0</td>\n",
       "      <td>0.0</td>\n",
       "      <td>0.0</td>\n",
       "      <td>...</td>\n",
       "      <td>0.0</td>\n",
       "      <td>0.0</td>\n",
       "      <td>1.0</td>\n",
       "      <td>0.0</td>\n",
       "      <td>0.0</td>\n",
       "      <td>0.0</td>\n",
       "      <td>0.0</td>\n",
       "      <td>0.0</td>\n",
       "      <td>0.0</td>\n",
       "      <td>1.0</td>\n",
       "    </tr>\n",
       "    <tr>\n",
       "      <th>...</th>\n",
       "      <td>...</td>\n",
       "      <td>...</td>\n",
       "      <td>...</td>\n",
       "      <td>...</td>\n",
       "      <td>...</td>\n",
       "      <td>...</td>\n",
       "      <td>...</td>\n",
       "      <td>...</td>\n",
       "      <td>...</td>\n",
       "      <td>...</td>\n",
       "      <td>...</td>\n",
       "      <td>...</td>\n",
       "      <td>...</td>\n",
       "      <td>...</td>\n",
       "      <td>...</td>\n",
       "      <td>...</td>\n",
       "      <td>...</td>\n",
       "      <td>...</td>\n",
       "      <td>...</td>\n",
       "      <td>...</td>\n",
       "      <td>...</td>\n",
       "    </tr>\n",
       "    <tr>\n",
       "      <th>1304</th>\n",
       "      <td>1305</td>\n",
       "      <td>3</td>\n",
       "      <td>0.044131</td>\n",
       "      <td>0</td>\n",
       "      <td>0</td>\n",
       "      <td>-0.486337</td>\n",
       "      <td>0.0</td>\n",
       "      <td>1.0</td>\n",
       "      <td>0.0</td>\n",
       "      <td>0.0</td>\n",
       "      <td>...</td>\n",
       "      <td>0.0</td>\n",
       "      <td>1.0</td>\n",
       "      <td>0.0</td>\n",
       "      <td>0.0</td>\n",
       "      <td>0.0</td>\n",
       "      <td>0.0</td>\n",
       "      <td>0.0</td>\n",
       "      <td>0.0</td>\n",
       "      <td>0.0</td>\n",
       "      <td>1.0</td>\n",
       "    </tr>\n",
       "    <tr>\n",
       "      <th>1305</th>\n",
       "      <td>1306</td>\n",
       "      <td>1</td>\n",
       "      <td>0.715743</td>\n",
       "      <td>0</td>\n",
       "      <td>0</td>\n",
       "      <td>1.544246</td>\n",
       "      <td>1.0</td>\n",
       "      <td>0.0</td>\n",
       "      <td>0.0</td>\n",
       "      <td>0.0</td>\n",
       "      <td>...</td>\n",
       "      <td>0.0</td>\n",
       "      <td>0.0</td>\n",
       "      <td>0.0</td>\n",
       "      <td>0.0</td>\n",
       "      <td>0.0</td>\n",
       "      <td>0.0</td>\n",
       "      <td>0.0</td>\n",
       "      <td>1.0</td>\n",
       "      <td>0.0</td>\n",
       "      <td>0.0</td>\n",
       "    </tr>\n",
       "    <tr>\n",
       "      <th>1306</th>\n",
       "      <td>1307</td>\n",
       "      <td>3</td>\n",
       "      <td>0.677266</td>\n",
       "      <td>0</td>\n",
       "      <td>0</td>\n",
       "      <td>-0.502445</td>\n",
       "      <td>0.0</td>\n",
       "      <td>1.0</td>\n",
       "      <td>0.0</td>\n",
       "      <td>0.0</td>\n",
       "      <td>...</td>\n",
       "      <td>0.0</td>\n",
       "      <td>1.0</td>\n",
       "      <td>0.0</td>\n",
       "      <td>0.0</td>\n",
       "      <td>0.0</td>\n",
       "      <td>0.0</td>\n",
       "      <td>0.0</td>\n",
       "      <td>0.0</td>\n",
       "      <td>0.0</td>\n",
       "      <td>1.0</td>\n",
       "    </tr>\n",
       "    <tr>\n",
       "      <th>1307</th>\n",
       "      <td>1308</td>\n",
       "      <td>3</td>\n",
       "      <td>0.044131</td>\n",
       "      <td>0</td>\n",
       "      <td>0</td>\n",
       "      <td>-0.486337</td>\n",
       "      <td>0.0</td>\n",
       "      <td>1.0</td>\n",
       "      <td>0.0</td>\n",
       "      <td>0.0</td>\n",
       "      <td>...</td>\n",
       "      <td>0.0</td>\n",
       "      <td>1.0</td>\n",
       "      <td>0.0</td>\n",
       "      <td>0.0</td>\n",
       "      <td>0.0</td>\n",
       "      <td>0.0</td>\n",
       "      <td>0.0</td>\n",
       "      <td>0.0</td>\n",
       "      <td>0.0</td>\n",
       "      <td>1.0</td>\n",
       "    </tr>\n",
       "    <tr>\n",
       "      <th>1308</th>\n",
       "      <td>1309</td>\n",
       "      <td>3</td>\n",
       "      <td>0.044131</td>\n",
       "      <td>1</td>\n",
       "      <td>1</td>\n",
       "      <td>-0.198244</td>\n",
       "      <td>0.0</td>\n",
       "      <td>1.0</td>\n",
       "      <td>0.0</td>\n",
       "      <td>0.0</td>\n",
       "      <td>...</td>\n",
       "      <td>0.0</td>\n",
       "      <td>0.0</td>\n",
       "      <td>0.0</td>\n",
       "      <td>0.0</td>\n",
       "      <td>0.0</td>\n",
       "      <td>0.0</td>\n",
       "      <td>0.0</td>\n",
       "      <td>1.0</td>\n",
       "      <td>0.0</td>\n",
       "      <td>0.0</td>\n",
       "    </tr>\n",
       "  </tbody>\n",
       "</table>\n",
       "<p>418 rows × 2019 columns</p>\n",
       "</div>"
      ],
      "text/plain": [
       "      PassengerId  Pclass       Age  SibSp  Parch      Fare  Sex_female  \\\n",
       "891           892       3  0.369449      0      0 -0.490783         0.0   \n",
       "892           893       3  1.331378      1      0 -0.507479         1.0   \n",
       "893           894       2  2.485693      0      0 -0.453367         0.0   \n",
       "894           895       3 -0.207709      0      0 -0.474005         0.0   \n",
       "895           896       3 -0.592481      1      1 -0.401017         1.0   \n",
       "...           ...     ...       ...    ...    ...       ...         ...   \n",
       "1304         1305       3  0.044131      0      0 -0.486337         0.0   \n",
       "1305         1306       1  0.715743      0      0  1.544246         1.0   \n",
       "1306         1307       3  0.677266      0      0 -0.502445         0.0   \n",
       "1307         1308       3  0.044131      0      0 -0.486337         0.0   \n",
       "1308         1309       3  0.044131      1      1 -0.198244         0.0   \n",
       "\n",
       "      Sex_male  Ticket_110152  Ticket_110413  ...  Honorific_Mme.  \\\n",
       "891        1.0            0.0            0.0  ...             0.0   \n",
       "892        0.0            0.0            0.0  ...             0.0   \n",
       "893        1.0            0.0            0.0  ...             0.0   \n",
       "894        1.0            0.0            0.0  ...             0.0   \n",
       "895        0.0            0.0            0.0  ...             0.0   \n",
       "...        ...            ...            ...  ...             ...   \n",
       "1304       1.0            0.0            0.0  ...             0.0   \n",
       "1305       0.0            0.0            0.0  ...             0.0   \n",
       "1306       1.0            0.0            0.0  ...             0.0   \n",
       "1307       1.0            0.0            0.0  ...             0.0   \n",
       "1308       1.0            0.0            0.0  ...             0.0   \n",
       "\n",
       "      Honorific_Mr.  Honorific_Mrs.  Honorific_Ms.  Honorific_Rev.  \\\n",
       "891             1.0             0.0            0.0             0.0   \n",
       "892             0.0             1.0            0.0             0.0   \n",
       "893             1.0             0.0            0.0             0.0   \n",
       "894             1.0             0.0            0.0             0.0   \n",
       "895             0.0             1.0            0.0             0.0   \n",
       "...             ...             ...            ...             ...   \n",
       "1304            1.0             0.0            0.0             0.0   \n",
       "1305            0.0             0.0            0.0             0.0   \n",
       "1306            1.0             0.0            0.0             0.0   \n",
       "1307            1.0             0.0            0.0             0.0   \n",
       "1308            0.0             0.0            0.0             0.0   \n",
       "\n",
       "      Honorific_Sir.  Honorific_the  Embarked_C  Embarked_Q  Embarked_S  \n",
       "891              0.0            0.0         0.0         1.0         0.0  \n",
       "892              0.0            0.0         0.0         0.0         1.0  \n",
       "893              0.0            0.0         0.0         1.0         0.0  \n",
       "894              0.0            0.0         0.0         0.0         1.0  \n",
       "895              0.0            0.0         0.0         0.0         1.0  \n",
       "...              ...            ...         ...         ...         ...  \n",
       "1304             0.0            0.0         0.0         0.0         1.0  \n",
       "1305             0.0            0.0         1.0         0.0         0.0  \n",
       "1306             0.0            0.0         0.0         0.0         1.0  \n",
       "1307             0.0            0.0         0.0         0.0         1.0  \n",
       "1308             0.0            0.0         1.0         0.0         0.0  \n",
       "\n",
       "[418 rows x 2019 columns]"
      ]
     },
     "execution_count": 37,
     "metadata": {},
     "output_type": "execute_result"
    }
   ],
   "source": [
    "test, train = overall[overall[\"ind\"].eq(\"test\")], overall[overall[\"ind\"].eq(\"train\")]\n",
    "train = train.drop(['ind'],axis=1)\n",
    "test = test.drop(['ind'],axis=1)\n",
    "test.reset_index()\n",
    "test"
   ]
  },
  {
   "cell_type": "code",
   "execution_count": 38,
   "id": "90bf05ff",
   "metadata": {
    "execution": {
     "iopub.execute_input": "2021-12-02T20:26:32.666719Z",
     "iopub.status.busy": "2021-12-02T20:26:32.666000Z",
     "iopub.status.idle": "2021-12-02T20:26:32.672664Z",
     "shell.execute_reply": "2021-12-02T20:26:32.673144Z",
     "shell.execute_reply.started": "2021-12-02T20:24:50.038141Z"
    },
    "papermill": {
     "duration": 0.068424,
     "end_time": "2021-12-02T20:26:32.673323",
     "exception": false,
     "start_time": "2021-12-02T20:26:32.604899",
     "status": "completed"
    },
    "tags": []
   },
   "outputs": [
    {
     "data": {
      "text/plain": [
       "\"\\nfrom sklearn.model_selection import cross_val_score\\nfrom sklearn.model_selection import RepeatedStratifiedKFold\\nfrom sklearn.model_selection import GridSearchCV\\nfrom sklearn.linear_model import LogisticRegression\\nfrom sklearn.ensemble import RandomForestClassifier\\nfrom sklearn.naive_bayes import GaussianNB\\n\\n\\nlr = LogisticRegression()\\nrf = RandomForestClassifier()\\ngnb = GaussianNB()\\n\\nparam_grid_lr = {'solver': ['liblinear'],\\n              'penalty': ['l2'],\\n              'C': np.logspace(-4, 4, 4)}\\nparam_grid_rf = {'n_estimators': [10, 100, 1000],\\n                 'max_features': ['sqrt', 'log2']}\\nparam_grid_gnb = {'var_smoothing': np.logspace(0,-9, num=100)}\\n\\ncv = RepeatedStratifiedKFold(n_splits=10, n_repeats=3, random_state=1)\\n\\ngrid_search = GridSearchCV(estimator=lr, param_grid=param_grid_lr, n_jobs=-1, cv=cv, scoring='accuracy',error_score=0)\\ngrid_result = grid_search.fit(train, y)\\nprint('linear regression',grid_result.best_score_,grid_result.best_params_)\\n\\ngrid_search = GridSearchCV(estimator=rf, param_grid=param_grid_rf, n_jobs=-1, cv=cv, scoring='accuracy',error_score=0)\\ngrid_result = grid_search.fit(train, y)\\nprint('random forest',grid_result.best_score_,grid_result.best_params_)\\n\\ngrid_search = GridSearchCV(estimator=gnb, param_grid=param_grid_gnb, n_jobs=-1, cv=cv, scoring='accuracy',error_score=0)\\ngrid_result = grid_search.fit(train, y)\\nprint('naive bayes',grid_result.best_score_,grid_result.best_params_)\\n\""
      ]
     },
     "execution_count": 38,
     "metadata": {},
     "output_type": "execute_result"
    }
   ],
   "source": [
    "'''\n",
    "from sklearn.model_selection import cross_val_score\n",
    "from sklearn.model_selection import RepeatedStratifiedKFold\n",
    "from sklearn.model_selection import GridSearchCV\n",
    "from sklearn.linear_model import LogisticRegression\n",
    "from sklearn.ensemble import RandomForestClassifier\n",
    "from sklearn.naive_bayes import GaussianNB\n",
    "\n",
    "\n",
    "lr = LogisticRegression()\n",
    "rf = RandomForestClassifier()\n",
    "gnb = GaussianNB()\n",
    "\n",
    "param_grid_lr = {'solver': ['liblinear'],\n",
    "              'penalty': ['l2'],\n",
    "              'C': np.logspace(-4, 4, 4)}\n",
    "param_grid_rf = {'n_estimators': [10, 100, 1000],\n",
    "                 'max_features': ['sqrt', 'log2']}\n",
    "param_grid_gnb = {'var_smoothing': np.logspace(0,-9, num=100)}\n",
    "\n",
    "cv = RepeatedStratifiedKFold(n_splits=10, n_repeats=3, random_state=1)\n",
    "\n",
    "grid_search = GridSearchCV(estimator=lr, param_grid=param_grid_lr, n_jobs=-1, cv=cv, scoring='accuracy',error_score=0)\n",
    "grid_result = grid_search.fit(train, y)\n",
    "print('linear regression',grid_result.best_score_,grid_result.best_params_)\n",
    "\n",
    "grid_search = GridSearchCV(estimator=rf, param_grid=param_grid_rf, n_jobs=-1, cv=cv, scoring='accuracy',error_score=0)\n",
    "grid_result = grid_search.fit(train, y)\n",
    "print('random forest',grid_result.best_score_,grid_result.best_params_)\n",
    "\n",
    "grid_search = GridSearchCV(estimator=gnb, param_grid=param_grid_gnb, n_jobs=-1, cv=cv, scoring='accuracy',error_score=0)\n",
    "grid_result = grid_search.fit(train, y)\n",
    "print('naive bayes',grid_result.best_score_,grid_result.best_params_)\n",
    "'''"
   ]
  },
  {
   "cell_type": "code",
   "execution_count": 39,
   "id": "c383cf0f",
   "metadata": {
    "execution": {
     "iopub.execute_input": "2021-12-02T20:26:32.796260Z",
     "iopub.status.busy": "2021-12-02T20:26:32.795235Z",
     "iopub.status.idle": "2021-12-02T20:26:32.881501Z",
     "shell.execute_reply": "2021-12-02T20:26:32.880512Z",
     "shell.execute_reply.started": "2021-12-02T20:24:50.050642Z"
    },
    "papermill": {
     "duration": 0.14998,
     "end_time": "2021-12-02T20:26:32.881728",
     "exception": false,
     "start_time": "2021-12-02T20:26:32.731748",
     "status": "completed"
    },
    "tags": []
   },
   "outputs": [],
   "source": [
    "from sklearn.linear_model import LogisticRegression\n",
    "model = LogisticRegression(C=10000,solver='liblinear',penalty='l2')\n",
    "\n",
    "model.fit(train,y)\n",
    "pred = model.predict(test)"
   ]
  },
  {
   "cell_type": "code",
   "execution_count": 40,
   "id": "7f31eaf4",
   "metadata": {
    "execution": {
     "iopub.execute_input": "2021-12-02T20:26:33.064629Z",
     "iopub.status.busy": "2021-12-02T20:26:33.063927Z",
     "iopub.status.idle": "2021-12-02T20:26:33.070395Z",
     "shell.execute_reply": "2021-12-02T20:26:33.070897Z",
     "shell.execute_reply.started": "2021-12-02T20:24:56.079585Z"
    },
    "papermill": {
     "duration": 0.07992,
     "end_time": "2021-12-02T20:26:33.071077",
     "exception": false,
     "start_time": "2021-12-02T20:26:32.991157",
     "status": "completed"
    },
    "tags": []
   },
   "outputs": [],
   "source": [
    "sub = pd.DataFrame(pred)\n",
    "sub1 = sub.rename({0 : 'Survived'},axis=1)\n",
    "sub1.reset_index(drop=True, inplace=True)\n",
    "\n",
    "sub2.reset_index(drop=True, inplace=True)\n",
    "\n",
    "sub3 = pd.merge(sub2, sub1, left_index=True, right_index=True)\n",
    "\n",
    "sub3.to_csv('submission.csv', index=False)"
   ]
  },
  {
   "cell_type": "code",
   "execution_count": null,
   "id": "ee8547f7",
   "metadata": {
    "papermill": {
     "duration": 0.058572,
     "end_time": "2021-12-02T20:26:33.190224",
     "exception": false,
     "start_time": "2021-12-02T20:26:33.131652",
     "status": "completed"
    },
    "tags": []
   },
   "outputs": [],
   "source": []
  }
 ],
 "metadata": {
  "kernelspec": {
   "display_name": "Python 3",
   "language": "python",
   "name": "python3"
  },
  "language_info": {
   "codemirror_mode": {
    "name": "ipython",
    "version": 3
   },
   "file_extension": ".py",
   "mimetype": "text/x-python",
   "name": "python",
   "nbconvert_exporter": "python",
   "pygments_lexer": "ipython3",
   "version": "3.7.12"
  },
  "papermill": {
   "default_parameters": {},
   "duration": 22.658543,
   "end_time": "2021-12-02T20:26:33.958864",
   "environment_variables": {},
   "exception": null,
   "input_path": "__notebook__.ipynb",
   "output_path": "__notebook__.ipynb",
   "parameters": {},
   "start_time": "2021-12-02T20:26:11.300321",
   "version": "2.3.3"
  }
 },
 "nbformat": 4,
 "nbformat_minor": 5
}
